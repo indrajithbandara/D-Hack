{
 "cells": [
  {
   "cell_type": "code",
   "execution_count": 1,
   "metadata": {
    "collapsed": true
   },
   "outputs": [],
   "source": [
    "%matplotlib inline\n",
    "import numpy as np\n",
    "import scipy as sp\n",
    "import matplotlib as mpl\n",
    "import matplotlib.cm as cm\n",
    "import matplotlib.pyplot as plt\n",
    "import pandas as pd\n",
    "pd.set_option('display.width', 500)\n",
    "pd.set_option('display.max_columns', 100)\n",
    "pd.set_option('display.notebook_repr_html', True)\n",
    "import seaborn as sns\n",
    "sns.set_style(\"whitegrid\")\n",
    "sns.set_context(\"poster\")"
   ]
  },
  {
   "cell_type": "code",
   "execution_count": 2,
   "metadata": {
    "collapsed": true
   },
   "outputs": [],
   "source": [
    "%run scripts/helper.py"
   ]
  },
  {
   "cell_type": "code",
   "execution_count": 39,
   "metadata": {
    "collapsed": false
   },
   "outputs": [
    {
     "data": {
      "text/html": [
       "<div>\n",
       "<table border=\"1\" class=\"dataframe\">\n",
       "  <thead>\n",
       "    <tr style=\"text-align: right;\">\n",
       "      <th></th>\n",
       "      <th>ID</th>\n",
       "      <th>Var1</th>\n",
       "      <th>WorkStatus</th>\n",
       "      <th>Score</th>\n",
       "      <th>Divorce</th>\n",
       "      <th>Widowed</th>\n",
       "      <th>Education</th>\n",
       "      <th>Residence_Region</th>\n",
       "      <th>babies</th>\n",
       "      <th>preteen</th>\n",
       "      <th>teens</th>\n",
       "      <th>income</th>\n",
       "      <th>Engagement_Religion</th>\n",
       "      <th>Var2</th>\n",
       "      <th>TVhours</th>\n",
       "      <th>Gender</th>\n",
       "      <th>Unemployed10</th>\n",
       "      <th>Happy</th>\n",
       "    </tr>\n",
       "  </thead>\n",
       "  <tbody>\n",
       "    <tr>\n",
       "      <th>0</th>\n",
       "      <td>10000123</td>\n",
       "      <td>A</td>\n",
       "      <td>keeping house</td>\n",
       "      <td>46</td>\n",
       "      <td>NaN</td>\n",
       "      <td>no</td>\n",
       "      <td>12</td>\n",
       "      <td>middle atlantic</td>\n",
       "      <td>2</td>\n",
       "      <td>3</td>\n",
       "      <td>0</td>\n",
       "      <td>$10000 - 14999</td>\n",
       "      <td>sevrl times a yr</td>\n",
       "      <td>2</td>\n",
       "      <td>2</td>\n",
       "      <td>1</td>\n",
       "      <td>1</td>\n",
       "      <td>Pretty Happy</td>\n",
       "    </tr>\n",
       "    <tr>\n",
       "      <th>1</th>\n",
       "      <td>10000125</td>\n",
       "      <td>A</td>\n",
       "      <td>working fulltime</td>\n",
       "      <td>29</td>\n",
       "      <td>no</td>\n",
       "      <td>no</td>\n",
       "      <td>12</td>\n",
       "      <td>foreign</td>\n",
       "      <td>0</td>\n",
       "      <td>0</td>\n",
       "      <td>0</td>\n",
       "      <td>$15000 - 19999</td>\n",
       "      <td>more thn once wk</td>\n",
       "      <td>1</td>\n",
       "      <td>1</td>\n",
       "      <td>1</td>\n",
       "      <td>NaN</td>\n",
       "      <td>Pretty Happy</td>\n",
       "    </tr>\n",
       "    <tr>\n",
       "      <th>2</th>\n",
       "      <td>10000126</td>\n",
       "      <td>A</td>\n",
       "      <td>working fulltime</td>\n",
       "      <td>42</td>\n",
       "      <td>yes</td>\n",
       "      <td>no</td>\n",
       "      <td>8</td>\n",
       "      <td>foreign</td>\n",
       "      <td>0</td>\n",
       "      <td>0</td>\n",
       "      <td>0</td>\n",
       "      <td>$15000 - 19999</td>\n",
       "      <td>once a year</td>\n",
       "      <td>2</td>\n",
       "      <td>3</td>\n",
       "      <td>0</td>\n",
       "      <td>1</td>\n",
       "      <td>Not Happy</td>\n",
       "    </tr>\n",
       "    <tr>\n",
       "      <th>3</th>\n",
       "      <td>10000127</td>\n",
       "      <td>A</td>\n",
       "      <td>working parttime</td>\n",
       "      <td>36</td>\n",
       "      <td>NaN</td>\n",
       "      <td>NaN</td>\n",
       "      <td>13</td>\n",
       "      <td>middle atlantic</td>\n",
       "      <td>0</td>\n",
       "      <td>1</td>\n",
       "      <td>1</td>\n",
       "      <td>$10000 - 14999</td>\n",
       "      <td>once a year</td>\n",
       "      <td>1</td>\n",
       "      <td>NaN</td>\n",
       "      <td>1</td>\n",
       "      <td>0</td>\n",
       "      <td>Not Happy</td>\n",
       "    </tr>\n",
       "    <tr>\n",
       "      <th>4</th>\n",
       "      <td>10000130</td>\n",
       "      <td>A</td>\n",
       "      <td>working fulltime</td>\n",
       "      <td>44</td>\n",
       "      <td>NaN</td>\n",
       "      <td>NaN</td>\n",
       "      <td>12</td>\n",
       "      <td>foreign</td>\n",
       "      <td>0</td>\n",
       "      <td>0</td>\n",
       "      <td>0</td>\n",
       "      <td>$10000 - 14999</td>\n",
       "      <td>more thn once wk</td>\n",
       "      <td>2</td>\n",
       "      <td>4</td>\n",
       "      <td>0</td>\n",
       "      <td>0</td>\n",
       "      <td>Very Happy</td>\n",
       "    </tr>\n",
       "  </tbody>\n",
       "</table>\n",
       "</div>"
      ],
      "text/plain": [
       "         ID Var1        WorkStatus  Score Divorce Widowed  Education Residence_Region  babies  preteen  teens          income Engagement_Religion  Var2  TVhours  Gender  Unemployed10         Happy\n",
       "0  10000123    A     keeping house     46     NaN      no         12  middle atlantic       2        3      0  $10000 - 14999    sevrl times a yr     2        2       1             1  Pretty Happy\n",
       "1  10000125    A  working fulltime     29      no      no         12          foreign       0        0      0  $15000 - 19999    more thn once wk     1        1       1           NaN  Pretty Happy\n",
       "2  10000126    A  working fulltime     42     yes      no          8          foreign       0        0      0  $15000 - 19999         once a year     2        3       0             1     Not Happy\n",
       "3  10000127    A  working parttime     36     NaN     NaN         13  middle atlantic       0        1      1  $10000 - 14999         once a year     1      NaN       1             0     Not Happy\n",
       "4  10000130    A  working fulltime     44     NaN     NaN         12          foreign       0        0      0  $10000 - 14999    more thn once wk     2        4       0             0    Very Happy"
      ]
     },
     "execution_count": 39,
     "metadata": {},
     "output_type": "execute_result"
    }
   ],
   "source": [
    "# load data\n",
    "dfsurvey = pd.read_csv('./data/train_FBFog7d.csv')\n",
    "dfsurvey.head()"
   ]
  },
  {
   "cell_type": "code",
   "execution_count": 40,
   "metadata": {
    "collapsed": false
   },
   "outputs": [
    {
     "name": "stdout",
     "output_type": "stream",
     "text": [
      "<class 'pandas.core.frame.DataFrame'>\n",
      "Int64Index: 10357 entries, 0 to 10356\n",
      "Data columns (total 18 columns):\n",
      "ID                     10357 non-null int64\n",
      "Var1                   10122 non-null object\n",
      "WorkStatus             10355 non-null object\n",
      "Score                  9840 non-null float64\n",
      "Divorce                5919 non-null object\n",
      "Widowed                6512 non-null object\n",
      "Education              10170 non-null float64\n",
      "Residence_Region       10357 non-null object\n",
      "babies                 10295 non-null float64\n",
      "preteen                10294 non-null float64\n",
      "teens                  10304 non-null float64\n",
      "income                 9133 non-null object\n",
      "Engagement_Religion    10201 non-null object\n",
      "Var2                   10357 non-null int64\n",
      "TVhours                7121 non-null float64\n",
      "Gender                 10357 non-null int64\n",
      "Unemployed10           6845 non-null float64\n",
      "Happy                  10357 non-null object\n",
      "dtypes: float64(7), int64(3), object(8)\n",
      "memory usage: 1.5+ MB\n"
     ]
    }
   ],
   "source": [
    "# basic info about survey dataset\n",
    "dfsurvey.info()"
   ]
  },
  {
   "cell_type": "code",
   "execution_count": 41,
   "metadata": {
    "collapsed": true
   },
   "outputs": [],
   "source": [
    "# alcohol data\n",
    "dfalcohol = pd.read_csv('./data/NewVariable_Alcohol.csv')"
   ]
  },
  {
   "cell_type": "code",
   "execution_count": 42,
   "metadata": {
    "collapsed": true
   },
   "outputs": [],
   "source": [
    "# merge with the alcohol data\n",
    "dfsurvey = pd.merge(dfsurvey, dfalcohol, on='ID', how='left')"
   ]
  },
  {
   "cell_type": "code",
   "execution_count": 43,
   "metadata": {
    "collapsed": false
   },
   "outputs": [],
   "source": [
    "# lets see the class distrbution\n",
    "class_dist = dfsurvey.Happy.value_counts()"
   ]
  },
  {
   "cell_type": "code",
   "execution_count": 44,
   "metadata": {
    "collapsed": false
   },
   "outputs": [
    {
     "data": {
      "text/plain": [
       "Pretty Happy    5916\n",
       "Very Happy      3146\n",
       "Not Happy       1295\n",
       "dtype: int64"
      ]
     },
     "execution_count": 44,
     "metadata": {},
     "output_type": "execute_result"
    }
   ],
   "source": [
    "class_dist"
   ]
  },
  {
   "cell_type": "code",
   "execution_count": 45,
   "metadata": {
    "collapsed": false
   },
   "outputs": [
    {
     "data": {
      "text/plain": [
       "57.120787872936177"
      ]
     },
     "execution_count": 45,
     "metadata": {},
     "output_type": "execute_result"
    }
   ],
   "source": [
    "(class_dist[0] * 1. / class_dist.sum(axis=0)) * 100."
   ]
  },
  {
   "cell_type": "markdown",
   "metadata": {},
   "source": [
    "** Due to asymmetry in class distrbution if we always predict Pretty Happy we would be correct 57% percent of the time, but accuracy is not the correct metric here **"
   ]
  },
  {
   "cell_type": "markdown",
   "metadata": {},
   "source": [
    "## Load Test Set"
   ]
  },
  {
   "cell_type": "code",
   "execution_count": 46,
   "metadata": {
    "collapsed": false
   },
   "outputs": [
    {
     "data": {
      "text/html": [
       "<div>\n",
       "<table border=\"1\" class=\"dataframe\">\n",
       "  <thead>\n",
       "    <tr style=\"text-align: right;\">\n",
       "      <th></th>\n",
       "      <th>ID</th>\n",
       "      <th>Var1</th>\n",
       "      <th>WorkStatus</th>\n",
       "      <th>Score</th>\n",
       "      <th>Divorce</th>\n",
       "      <th>Widowed</th>\n",
       "      <th>Education</th>\n",
       "      <th>Residence_Region</th>\n",
       "      <th>babies</th>\n",
       "      <th>preteen</th>\n",
       "      <th>teens</th>\n",
       "      <th>income</th>\n",
       "      <th>Engagement_Religion</th>\n",
       "      <th>Var2</th>\n",
       "      <th>TVhours</th>\n",
       "      <th>Gender</th>\n",
       "      <th>Unemployed10</th>\n",
       "    </tr>\n",
       "  </thead>\n",
       "  <tbody>\n",
       "    <tr>\n",
       "      <th>0</th>\n",
       "      <td>10000124</td>\n",
       "      <td>A</td>\n",
       "      <td>working fulltime</td>\n",
       "      <td>22</td>\n",
       "      <td>no</td>\n",
       "      <td>no</td>\n",
       "      <td>12</td>\n",
       "      <td>foreign</td>\n",
       "      <td>0</td>\n",
       "      <td>0</td>\n",
       "      <td>0</td>\n",
       "      <td>NaN</td>\n",
       "      <td>every week</td>\n",
       "      <td>2</td>\n",
       "      <td>3</td>\n",
       "      <td>0</td>\n",
       "      <td>0</td>\n",
       "    </tr>\n",
       "    <tr>\n",
       "      <th>1</th>\n",
       "      <td>10000133</td>\n",
       "      <td>A</td>\n",
       "      <td>working fulltime</td>\n",
       "      <td>30</td>\n",
       "      <td>NaN</td>\n",
       "      <td>NaN</td>\n",
       "      <td>0</td>\n",
       "      <td>foreign</td>\n",
       "      <td>0</td>\n",
       "      <td>0</td>\n",
       "      <td>0</td>\n",
       "      <td>NaN</td>\n",
       "      <td>sevrl times a yr</td>\n",
       "      <td>2</td>\n",
       "      <td>2</td>\n",
       "      <td>1</td>\n",
       "      <td>1</td>\n",
       "    </tr>\n",
       "    <tr>\n",
       "      <th>2</th>\n",
       "      <td>10000149</td>\n",
       "      <td>A</td>\n",
       "      <td>other</td>\n",
       "      <td>NaN</td>\n",
       "      <td>NaN</td>\n",
       "      <td>no</td>\n",
       "      <td>12</td>\n",
       "      <td>foreign</td>\n",
       "      <td>0</td>\n",
       "      <td>0</td>\n",
       "      <td>0</td>\n",
       "      <td>$5000 to 5999</td>\n",
       "      <td>every week</td>\n",
       "      <td>2</td>\n",
       "      <td>4</td>\n",
       "      <td>1</td>\n",
       "      <td>0</td>\n",
       "    </tr>\n",
       "    <tr>\n",
       "      <th>3</th>\n",
       "      <td>10000156</td>\n",
       "      <td>A</td>\n",
       "      <td>keeping house</td>\n",
       "      <td>28</td>\n",
       "      <td>NaN</td>\n",
       "      <td>no</td>\n",
       "      <td>16</td>\n",
       "      <td>foreign</td>\n",
       "      <td>0</td>\n",
       "      <td>0</td>\n",
       "      <td>0</td>\n",
       "      <td>$1000 to 2999</td>\n",
       "      <td>every week</td>\n",
       "      <td>2</td>\n",
       "      <td>7</td>\n",
       "      <td>1</td>\n",
       "      <td>1</td>\n",
       "    </tr>\n",
       "    <tr>\n",
       "      <th>4</th>\n",
       "      <td>10000161</td>\n",
       "      <td>A</td>\n",
       "      <td>working parttime</td>\n",
       "      <td>58</td>\n",
       "      <td>yes</td>\n",
       "      <td>NaN</td>\n",
       "      <td>19</td>\n",
       "      <td>e. nor. central</td>\n",
       "      <td>0</td>\n",
       "      <td>0</td>\n",
       "      <td>0</td>\n",
       "      <td>NaN</td>\n",
       "      <td>never</td>\n",
       "      <td>1</td>\n",
       "      <td>NaN</td>\n",
       "      <td>1</td>\n",
       "      <td>1</td>\n",
       "    </tr>\n",
       "  </tbody>\n",
       "</table>\n",
       "</div>"
      ],
      "text/plain": [
       "         ID Var1        WorkStatus  Score Divorce Widowed  Education Residence_Region  babies  preteen  teens         income Engagement_Religion  Var2  TVhours  Gender  Unemployed10\n",
       "0  10000124    A  working fulltime     22      no      no         12          foreign       0        0      0            NaN          every week     2        3       0             0\n",
       "1  10000133    A  working fulltime     30     NaN     NaN          0          foreign       0        0      0            NaN    sevrl times a yr     2        2       1             1\n",
       "2  10000149    A             other    NaN     NaN      no         12          foreign       0        0      0  $5000 to 5999          every week     2        4       1             0\n",
       "3  10000156    A     keeping house     28     NaN      no         16          foreign       0        0      0  $1000 to 2999          every week     2        7       1             1\n",
       "4  10000161    A  working parttime     58     yes     NaN         19  e. nor. central       0        0      0            NaN               never     1      NaN       1             1"
      ]
     },
     "execution_count": 46,
     "metadata": {},
     "output_type": "execute_result"
    }
   ],
   "source": [
    "# Let's create a classifier that always predicts Pretty Happy for test dataset\n",
    "dfsurvey_test = pd.read_csv('./data/Test_L4P23N3.csv')\n",
    "dfsurvey_test.head()"
   ]
  },
  {
   "cell_type": "code",
   "execution_count": 47,
   "metadata": {
    "collapsed": true
   },
   "outputs": [],
   "source": [
    "# merge with alcohol data\n",
    "dfsurvey_test = pd.merge(dfsurvey_test, dfalcohol, on='ID', how='left')"
   ]
  },
  {
   "cell_type": "code",
   "execution_count": 48,
   "metadata": {
    "collapsed": false
   },
   "outputs": [],
   "source": [
    "emotion_dict = {'Very Happy': 0, 'Pretty Happy': 1, 'Not Happy': 2}\n",
    "\n",
    "def map_emotions_to_int(emotion):\n",
    "    return emotion_dict[emotion]\n",
    "\n",
    "train_labels = dfsurvey.Happy.map(map_emotions_to_int)"
   ]
  },
  {
   "cell_type": "markdown",
   "metadata": {},
   "source": [
    "## Data Cleanup"
   ]
  },
  {
   "cell_type": "code",
   "execution_count": 49,
   "metadata": {
    "collapsed": true
   },
   "outputs": [],
   "source": [
    "dfsurvey['Happy'] = train_labels"
   ]
  },
  {
   "cell_type": "markdown",
   "metadata": {},
   "source": [
    "## Deal With Missing Values"
   ]
  },
  {
   "cell_type": "code",
   "execution_count": 51,
   "metadata": {
    "collapsed": false
   },
   "outputs": [],
   "source": [
    "# income\n",
    "\n",
    "# train_convert, test_convert = convert_to_labels(dfsurvey, dfsurvey_test, 'income')\n",
    "# dfsurvey['income'] = train_convert\n",
    "# dfsurvey_test['income'] = test_convert\n",
    "\n",
    "dfsurvey['income'] = dfsurvey['income'].fillna('-999')\n",
    "dfsurvey_test['income'] = dfsurvey_test['income'].fillna('-999')"
   ]
  },
  {
   "cell_type": "code",
   "execution_count": 52,
   "metadata": {
    "collapsed": false
   },
   "outputs": [],
   "source": [
    "# Var1\n",
    "\n",
    "# train_convert, test_convert = convert_to_labels(dfsurvey, dfsurvey_test, 'Var1')\n",
    "# dfsurvey['Var1'] = train_convert\n",
    "# dfsurvey_test['Var1'] = test_convert\n",
    "\n",
    "dfsurvey['Var1'] = dfsurvey['Var1'].fillna('-999')\n",
    "dfsurvey_test['Var1'] = dfsurvey_test['Var1'].fillna('-999')"
   ]
  },
  {
   "cell_type": "code",
   "execution_count": 53,
   "metadata": {
    "collapsed": false
   },
   "outputs": [],
   "source": [
    "# Work Status\n",
    "# train_convert, test_convert = convert_to_labels(dfsurvey, dfsurvey_test, 'WorkStatus')\n",
    "\n",
    "# dfsurvey['WorkStatus'] = train_convert\n",
    "# dfsurvey_test['WorkStatus'] = test_convert\n",
    "\n",
    "dfsurvey['WorkStatus'] = dfsurvey['WorkStatus'].fillna('-999')\n",
    "dfsurvey_test['WorkStatus'] = dfsurvey_test['WorkStatus'].fillna('-999')"
   ]
  },
  {
   "cell_type": "code",
   "execution_count": 54,
   "metadata": {
    "collapsed": false
   },
   "outputs": [],
   "source": [
    "# Divorce\n",
    "\n",
    "# train_convert, test_convert = convert_to_labels(dfsurvey, dfsurvey_test, 'Divorce')\n",
    "\n",
    "# dfsurvey['Divorce'] = train_convert\n",
    "# dfsurvey_test['Divorce'] = test_convert\n",
    "\n",
    "dfsurvey['Divorce'] = dfsurvey['Divorce'].fillna('-999')\n",
    "dfsurvey_test['Divorce'] = dfsurvey_test['Divorce'].fillna('-999')"
   ]
  },
  {
   "cell_type": "code",
   "execution_count": 55,
   "metadata": {
    "collapsed": false
   },
   "outputs": [],
   "source": [
    "# Score ( dtype: float64 )\n",
    "dfsurvey['Score'] = dfsurvey.Score.fillna(dfsurvey.Score.median())\n",
    "dfsurvey_test['Score'] = dfsurvey_test.Score.fillna(dfsurvey_test.Score.median())"
   ]
  },
  {
   "cell_type": "code",
   "execution_count": 56,
   "metadata": {
    "collapsed": true
   },
   "outputs": [],
   "source": [
    "# Widowed \n",
    "# train_convert, test_convert = convert_to_labels(dfsurvey, dfsurvey_test, 'Widowed')\n",
    "# dfsurvey['Widowed'] = train_convert\n",
    "# dfsurvey_test['Widowed'] = test_convert\n",
    "\n",
    "dfsurvey['Widowed'] = dfsurvey['Widowed'].fillna('-999')\n",
    "dfsurvey_test['Widowed'] = dfsurvey_test['Widowed'].fillna('-999')"
   ]
  },
  {
   "cell_type": "code",
   "execution_count": 57,
   "metadata": {
    "collapsed": false
   },
   "outputs": [],
   "source": [
    "# Education\n",
    "dfsurvey['Education'] = dfsurvey.Education.fillna(dfsurvey.Education.median())\n",
    "dfsurvey_test['Education'] = dfsurvey_test.Education.fillna(dfsurvey_test.Education.median())"
   ]
  },
  {
   "cell_type": "code",
   "execution_count": 58,
   "metadata": {
    "collapsed": true
   },
   "outputs": [],
   "source": [
    "# Residence Region\n",
    "# train_convert, test_convert = convert_to_labels(dfsurvey, dfsurvey_test, 'Residence_Region')\n",
    "# dfsurvey['Residence_Region'] = train_convert\n",
    "# dfsurvey_test['Residence_Region'] = test_convert\n",
    "\n",
    "dfsurvey['Residence_Region'] = dfsurvey['Residence_Region'].fillna('-999')\n",
    "dfsurvey_test['Residence_Region'] = dfsurvey_test['Residence_Region'].fillna('-999')"
   ]
  },
  {
   "cell_type": "code",
   "execution_count": 59,
   "metadata": {
    "collapsed": true
   },
   "outputs": [],
   "source": [
    "# Religion\n",
    "# train_convert, test_convert = convert_to_labels(dfsurvey, dfsurvey_test, 'Engagement_Religion')\n",
    "# dfsurvey['Engagement_Religion'] = train_convert\n",
    "# dfsurvey_test['Engagement_Religion'] = test_convert\n",
    "\n",
    "dfsurvey['Engagement_Religion'] = dfsurvey['Engagement_Religion'].fillna('-999')\n",
    "dfsurvey_test['Engagement_Religion'] = dfsurvey_test['Engagement_Religion'].fillna('-999')"
   ]
  },
  {
   "cell_type": "code",
   "execution_count": 60,
   "metadata": {
    "collapsed": true
   },
   "outputs": [],
   "source": [
    "# Alcohol\n",
    "# train_convert, test_convert = convert_to_labels(dfsurvey, dfsurvey_test, 'Alcohol_Consumption')\n",
    "# dfsurvey['Alcohol_Consumption'] = train_convert\n",
    "# dfsurvey_test['Alcohol_Consumption'] = test_convert\n",
    "\n",
    "dfsurvey['Alcohol_Consumption'] = dfsurvey['Alcohol_Consumption'].fillna('-999')\n",
    "dfsurvey_test['Alcohol_Consumption'] = dfsurvey_test['Alcohol_Consumption'].fillna('-999')"
   ]
  },
  {
   "cell_type": "code",
   "execution_count": 61,
   "metadata": {
    "collapsed": false
   },
   "outputs": [],
   "source": [
    "# other cols\n",
    "dfsurvey['babies'] = dfsurvey.babies.fillna(dfsurvey.babies.mean())\n",
    "dfsurvey_test['babies'] = dfsurvey_test.babies.fillna(dfsurvey_test.babies.mean())\n",
    "\n",
    "dfsurvey['preteen'] = dfsurvey.preteen.fillna(dfsurvey.preteen.mean())\n",
    "dfsurvey_test['preteen'] = dfsurvey_test.preteen.fillna(dfsurvey_test.preteen.mean())\n",
    "\n",
    "dfsurvey['teens'] = dfsurvey.teens.fillna(dfsurvey.teens.mean())\n",
    "dfsurvey_test['teens'] = dfsurvey_test.teens.fillna(dfsurvey_test.teens.mean())\n",
    "\n",
    "dfsurvey['TVhours'] = dfsurvey.TVhours.fillna(dfsurvey.TVhours.mean())\n",
    "dfsurvey_test['TVhours'] = dfsurvey_test.TVhours.fillna(dfsurvey_test.TVhours.mean())\n",
    "\n",
    "dfsurvey['Unemployed10'] = dfsurvey.Unemployed10.fillna(2)\n",
    "dfsurvey_test['Unemployed10'] = dfsurvey_test.Unemployed10.fillna(2)"
   ]
  },
  {
   "cell_type": "code",
   "execution_count": 62,
   "metadata": {
    "collapsed": true
   },
   "outputs": [],
   "source": [
    "train_df = dfsurvey[dfsurvey.columns.drop(['Happy', 'ID'])]\n",
    "test_df = dfsurvey_test[dfsurvey_test.columns.drop(['ID'])]"
   ]
  },
  {
   "cell_type": "code",
   "execution_count": 64,
   "metadata": {
    "collapsed": false
   },
   "outputs": [],
   "source": [
    "from sklearn.feature_extraction import DictVectorizer\n",
    "\n",
    "train = train_df.T.to_dict().values()\n",
    "test = test_df.T.to_dict().values()\n",
    "\n",
    "vec = DictVectorizer()\n",
    "train = vec.fit_transform(train)\n",
    "test = vec.transform(test)"
   ]
  },
  {
   "cell_type": "code",
   "execution_count": 1216,
   "metadata": {
    "collapsed": true
   },
   "outputs": [],
   "source": [
    "# list of columns we want\n",
    "cols_we_want = dfsurvey.columns.drop(['Happy', 'ID'])"
   ]
  },
  {
   "cell_type": "markdown",
   "metadata": {},
   "source": [
    "## Split Dataset"
   ]
  },
  {
   "cell_type": "code",
   "execution_count": 68,
   "metadata": {
    "collapsed": true
   },
   "outputs": [],
   "source": [
    "surveymask = split_dataset(dfsurvey, train_labels)"
   ]
  },
  {
   "cell_type": "code",
   "execution_count": 69,
   "metadata": {
    "collapsed": false
   },
   "outputs": [
    {
     "ename": "IndexError",
     "evalue": "index (10349) out of range",
     "output_type": "error",
     "traceback": [
      "\u001b[1;31m---------------------------------------------------------------------------\u001b[0m",
      "\u001b[1;31mIndexError\u001b[0m                                Traceback (most recent call last)",
      "\u001b[1;32m<ipython-input-69-ec69bb42577c>\u001b[0m in \u001b[0;36m<module>\u001b[1;34m()\u001b[0m\n\u001b[0;32m      1\u001b[0m \u001b[0mX_train\u001b[0m \u001b[1;33m=\u001b[0m \u001b[0mtrain\u001b[0m\u001b[1;33m[\u001b[0m\u001b[0msurveymask\u001b[0m\u001b[1;33m]\u001b[0m\u001b[1;33m\u001b[0m\u001b[0m\n\u001b[1;32m----> 2\u001b[1;33m \u001b[0mX_test\u001b[0m \u001b[1;33m=\u001b[0m \u001b[0mtest\u001b[0m\u001b[1;33m[\u001b[0m\u001b[1;33m~\u001b[0m\u001b[0msurveymask\u001b[0m\u001b[1;33m]\u001b[0m\u001b[1;33m\u001b[0m\u001b[0m\n\u001b[0m\u001b[0;32m      3\u001b[0m \u001b[1;33m\u001b[0m\u001b[0m\n\u001b[0;32m      4\u001b[0m \u001b[0my_train\u001b[0m \u001b[1;33m=\u001b[0m \u001b[0mtrain_labels\u001b[0m\u001b[1;33m[\u001b[0m\u001b[0msurveymask\u001b[0m\u001b[1;33m]\u001b[0m\u001b[1;33m\u001b[0m\u001b[0m\n\u001b[0;32m      5\u001b[0m \u001b[0my_test\u001b[0m \u001b[1;33m=\u001b[0m \u001b[0mtrain_labels\u001b[0m\u001b[1;33m[\u001b[0m\u001b[1;33m~\u001b[0m\u001b[0msurveymask\u001b[0m\u001b[1;33m]\u001b[0m\u001b[1;33m\u001b[0m\u001b[0m\n",
      "\u001b[1;32m/home/abhishek/anaconda/lib/python2.7/site-packages/scipy/sparse/csr.pyc\u001b[0m in \u001b[0;36m__getitem__\u001b[1;34m(self, key)\u001b[0m\n\u001b[0;32m    294\u001b[0m             \u001b[1;31m# [[1,2],??]\u001b[0m\u001b[1;33m\u001b[0m\u001b[1;33m\u001b[0m\u001b[0m\n\u001b[0;32m    295\u001b[0m             \u001b[1;32mif\u001b[0m \u001b[0misintlike\u001b[0m\u001b[1;33m(\u001b[0m\u001b[0mcol\u001b[0m\u001b[1;33m)\u001b[0m \u001b[1;32mor\u001b[0m \u001b[0misinstance\u001b[0m\u001b[1;33m(\u001b[0m\u001b[0mcol\u001b[0m\u001b[1;33m,\u001b[0m\u001b[0mslice\u001b[0m\u001b[1;33m)\u001b[0m\u001b[1;33m:\u001b[0m\u001b[1;33m\u001b[0m\u001b[0m\n\u001b[1;32m--> 296\u001b[1;33m                 \u001b[0mP\u001b[0m \u001b[1;33m=\u001b[0m \u001b[0mextractor\u001b[0m\u001b[1;33m(\u001b[0m\u001b[0mrow\u001b[0m\u001b[1;33m,\u001b[0m \u001b[0mself\u001b[0m\u001b[1;33m.\u001b[0m\u001b[0mshape\u001b[0m\u001b[1;33m[\u001b[0m\u001b[1;36m0\u001b[0m\u001b[1;33m]\u001b[0m\u001b[1;33m)\u001b[0m     \u001b[1;31m# [[1,2],j] or [[1,2],1:2]\u001b[0m\u001b[1;33m\u001b[0m\u001b[0m\n\u001b[0m\u001b[0;32m    297\u001b[0m                 \u001b[0mextracted\u001b[0m \u001b[1;33m=\u001b[0m \u001b[0mP\u001b[0m \u001b[1;33m*\u001b[0m \u001b[0mself\u001b[0m\u001b[1;33m\u001b[0m\u001b[0m\n\u001b[0;32m    298\u001b[0m                 \u001b[1;32mif\u001b[0m \u001b[0mcol\u001b[0m \u001b[1;33m==\u001b[0m \u001b[0mslice\u001b[0m\u001b[1;33m(\u001b[0m\u001b[0mNone\u001b[0m\u001b[1;33m,\u001b[0m \u001b[0mNone\u001b[0m\u001b[1;33m,\u001b[0m \u001b[0mNone\u001b[0m\u001b[1;33m)\u001b[0m\u001b[1;33m:\u001b[0m\u001b[1;33m\u001b[0m\u001b[0m\n",
      "\u001b[1;32m/home/abhishek/anaconda/lib/python2.7/site-packages/scipy/sparse/csr.pyc\u001b[0m in \u001b[0;36mextractor\u001b[1;34m(indices, N)\u001b[0m\n\u001b[0;32m    248\u001b[0m             \u001b[0mindices\u001b[0m \u001b[1;33m=\u001b[0m \u001b[0masindices\u001b[0m\u001b[1;33m(\u001b[0m\u001b[0mindices\u001b[0m\u001b[1;33m)\u001b[0m\u001b[1;33m\u001b[0m\u001b[0m\n\u001b[0;32m    249\u001b[0m \u001b[1;33m\u001b[0m\u001b[0m\n\u001b[1;32m--> 250\u001b[1;33m             \u001b[1;33m(\u001b[0m\u001b[0mmin_indx\u001b[0m\u001b[1;33m,\u001b[0m\u001b[0mmax_indx\u001b[0m\u001b[1;33m)\u001b[0m \u001b[1;33m=\u001b[0m \u001b[0mcheck_bounds\u001b[0m\u001b[1;33m(\u001b[0m\u001b[0mindices\u001b[0m\u001b[1;33m,\u001b[0m\u001b[0mN\u001b[0m\u001b[1;33m)\u001b[0m\u001b[1;33m\u001b[0m\u001b[0m\n\u001b[0m\u001b[0;32m    251\u001b[0m \u001b[1;33m\u001b[0m\u001b[0m\n\u001b[0;32m    252\u001b[0m             \u001b[1;32mif\u001b[0m \u001b[0mmin_indx\u001b[0m \u001b[1;33m<\u001b[0m \u001b[1;36m0\u001b[0m\u001b[1;33m:\u001b[0m\u001b[1;33m\u001b[0m\u001b[0m\n",
      "\u001b[1;32m/home/abhishek/anaconda/lib/python2.7/site-packages/scipy/sparse/csr.pyc\u001b[0m in \u001b[0;36mcheck_bounds\u001b[1;34m(indices, N)\u001b[0m\n\u001b[0;32m    234\u001b[0m             \u001b[0mmax_indx\u001b[0m \u001b[1;33m=\u001b[0m \u001b[0mindices\u001b[0m\u001b[1;33m.\u001b[0m\u001b[0mmax\u001b[0m\u001b[1;33m(\u001b[0m\u001b[1;33m)\u001b[0m\u001b[1;33m\u001b[0m\u001b[0m\n\u001b[0;32m    235\u001b[0m             \u001b[1;32mif\u001b[0m \u001b[0mmax_indx\u001b[0m \u001b[1;33m>=\u001b[0m \u001b[0mN\u001b[0m\u001b[1;33m:\u001b[0m\u001b[1;33m\u001b[0m\u001b[0m\n\u001b[1;32m--> 236\u001b[1;33m                 \u001b[1;32mraise\u001b[0m \u001b[0mIndexError\u001b[0m\u001b[1;33m(\u001b[0m\u001b[1;34m'index (%d) out of range'\u001b[0m \u001b[1;33m%\u001b[0m \u001b[0mmax_indx\u001b[0m\u001b[1;33m)\u001b[0m\u001b[1;33m\u001b[0m\u001b[0m\n\u001b[0m\u001b[0;32m    237\u001b[0m \u001b[1;33m\u001b[0m\u001b[0m\n\u001b[0;32m    238\u001b[0m             \u001b[0mmin_indx\u001b[0m \u001b[1;33m=\u001b[0m \u001b[0mindices\u001b[0m\u001b[1;33m.\u001b[0m\u001b[0mmin\u001b[0m\u001b[1;33m(\u001b[0m\u001b[1;33m)\u001b[0m\u001b[1;33m\u001b[0m\u001b[0m\n",
      "\u001b[1;31mIndexError\u001b[0m: index (10349) out of range"
     ]
    }
   ],
   "source": [
    "X_train = train[surveymask]\n",
    "X_test = test[~surveymask]\n",
    "\n",
    "y_train = train_labels[surveymask]\n",
    "y_test = train_labels[~surveymask]"
   ]
  },
  {
   "cell_type": "code",
   "execution_count": 1219,
   "metadata": {
    "collapsed": false
   },
   "outputs": [],
   "source": [
    "X_train = X_train[cols_we_want]\n",
    "X_test = X_test[cols_we_want]"
   ]
  },
  {
   "cell_type": "code",
   "execution_count": 1220,
   "metadata": {
    "collapsed": false
   },
   "outputs": [
    {
     "data": {
      "text/plain": [
       "((7249, 16), (3108, 16), (7249,), (3108,))"
      ]
     },
     "execution_count": 1220,
     "metadata": {},
     "output_type": "execute_result"
    }
   ],
   "source": [
    "X_train.shape, X_test.shape, ytrain.shape, y_test.shape"
   ]
  },
  {
   "cell_type": "markdown",
   "metadata": {},
   "source": [
    "## Classification and Cross-Validation Helper Functions"
   ]
  },
  {
   "cell_type": "code",
   "execution_count": 1221,
   "metadata": {
    "collapsed": true
   },
   "outputs": [],
   "source": [
    "from sklearn.grid_search import GridSearchCV"
   ]
  },
  {
   "cell_type": "code",
   "execution_count": 978,
   "metadata": {
    "collapsed": true
   },
   "outputs": [],
   "source": [
    "# def repredict(preds, t1, t2):\n",
    "#     res = []\n",
    "    \n",
    "#     for pred in preds:\n",
    "#         if pred[1] >= t1:\n",
    "#             res.append(1)\n",
    "#         else:\n",
    "#             if pred[1] >= t2:\n",
    "#                 res.append(0)\n",
    "#             else:\n",
    "#                 res.append(2)\n",
    "#     return res"
   ]
  },
  {
   "cell_type": "code",
   "execution_count": 979,
   "metadata": {
    "collapsed": true
   },
   "outputs": [],
   "source": [
    "def cv_optimize(clf, parameters, X, y, n_jobs=1, n_folds=5, score_func=None):\n",
    "    if score_func:\n",
    "        gs = GridSearchCV(clf, param_grid=parameters, cv=n_folds, n_jobs=n_jobs, scoring=score_func)\n",
    "    else:\n",
    "        gs = GridSearchCV(clf, param_grid=parameters, n_jobs=n_jobs, cv=n_folds)\n",
    "    gs.fit(X, y)\n",
    "    print \"BEST\", gs.best_params_, gs.best_score_, gs.grid_scores_\n",
    "    best = gs.best_estimator_\n",
    "    return best"
   ]
  },
  {
   "cell_type": "code",
   "execution_count": 980,
   "metadata": {
    "collapsed": true
   },
   "outputs": [],
   "source": [
    "def do_classify(clf, parameters, indf, featurenames, targetval, mask=None, reuse_split=None, score_func=None, n_folds=5, n_jobs=1):\n",
    "    subdf=indf[featurenames]\n",
    "    \n",
    "    X=subdf.values\n",
    "    y=targetval\n",
    "    \n",
    "    if mask !=None:\n",
    "        print \"using mask\"\n",
    "        Xtrain, Xtest, ytrain, ytest = X[mask], X[~mask], y[mask], y[~mask]\n",
    "    \n",
    "    if reuse_split !=None:\n",
    "        print \"using reuse split\"\n",
    "        Xtrain, Xtest, ytrain, ytest = reuse_split['Xtrain'], reuse_split['Xtest'], reuse_split['ytrain'], reuse_split['ytest']\n",
    "    \n",
    "    if parameters:\n",
    "        clf = cv_optimize(clf, parameters, Xtrain, ytrain, n_jobs=n_jobs, n_folds=n_folds, score_func=score_func)\n",
    "    \n",
    "    clf=clf.fit(Xtrain, ytrain)\n",
    "    train_preds = clf.predict(Xtrain)\n",
    "    test_preds = clf.predict(Xtest)\n",
    "    \n",
    "    training_accuracy = score(ytrain, train_preds)\n",
    "    test_accuracy = score(ytest, test_preds)\n",
    "    \n",
    "#     train_preds_probs = clf.predict_proba(Xtrain)\n",
    "#     test_preds_probs = clf.predict_proba(Xtest)\n",
    "    \n",
    "#     train_preds_repred = repredict(train_preds_probs, 0.55, 0.30)\n",
    "#     test_preds_repred = repredict(test_preds_probs, 0.55, 0.30)\n",
    "    \n",
    "#     training_accuracy_repredict = score(ytrain, train_preds_repred)\n",
    "#     test_accuracy_repredict = score(ytest, test_preds_repred)\n",
    "    \n",
    "    print \"############# based on custom eval metric ################\"\n",
    "    print \"Evaluation on training data: %0.4f\" % (training_accuracy)\n",
    "    print \"Evaluation on test data:     %0.4f\" % (test_accuracy)\n",
    "    print confusion_matrix(ytest, test_preds)\n",
    "    print \"########################################################\"\n",
    "    \n",
    "#     print \"\\n############ after reprediction #################\"\n",
    "#     print \"Evaluation on training data: %0.4f \" % (training_accuracy_repredict)\n",
    "#     print \"Evaluation on test data:     %0.4f\" % (test_accuracy_repredict)\n",
    "#     print confusion_matrix(ytest, test_preds_repred)\n",
    "#     print \"########################################################\"\n",
    "    \n",
    "    return clf, Xtrain, ytrain, Xtest, ytest"
   ]
  },
  {
   "cell_type": "markdown",
   "metadata": {},
   "source": [
    "## Evaluation Metric"
   ]
  },
  {
   "cell_type": "code",
   "execution_count": 1222,
   "metadata": {
    "collapsed": false
   },
   "outputs": [],
   "source": [
    "eval_metric = make_scorer_func()"
   ]
  },
  {
   "cell_type": "markdown",
   "metadata": {},
   "source": [
    "## Logistic Regression"
   ]
  },
  {
   "cell_type": "code",
   "execution_count": 1223,
   "metadata": {
    "collapsed": false
   },
   "outputs": [
    {
     "name": "stdout",
     "output_type": "stream",
     "text": [
      "using mask\n",
      "BEST {'C': 0.01} 0.609697889364 [mean: 0.60970, std: 0.00656, params: {'C': 0.01}, mean: 0.60731, std: 0.01061, params: {'C': 0.1}, mean: 0.60877, std: 0.01096, params: {'C': 1}, mean: 0.60899, std: 0.01088, params: {'C': 10}, mean: 0.60899, std: 0.01088, params: {'C': 100}]\n",
      "############# based on custom eval metric ################\n",
      "Evaluation on training data: 0.6118\n",
      "Evaluation on test data:     0.6069\n",
      "[[  56  888    0]\n",
      " [  75 1700    0]\n",
      " [  10  379    0]]\n",
      "########################################################\n"
     ]
    },
    {
     "name": "stderr",
     "output_type": "stream",
     "text": [
      "/home/abhishek/anaconda/lib/python2.7/site-packages/IPython/kernel/__main__.py:7: FutureWarning: comparison to `None` will result in an elementwise object comparison in the future.\n"
     ]
    }
   ],
   "source": [
    "from sklearn.linear_model import LogisticRegression\n",
    "\n",
    "log = LogisticRegression()\n",
    "Cs = {'C': [0.01, 0.1, 1, 10, 100]}\n",
    "log, Xtrain, ytrain, Xtest, ytest = do_classify(log, Cs, dfsurvey, cols_we_want, train_labels, \n",
    "                                                mask=surveymask, score_func=eval_metric)"
   ]
  },
  {
   "cell_type": "markdown",
   "metadata": {},
   "source": [
    "## Random Forest Classifier"
   ]
  },
  {
   "cell_type": "code",
   "execution_count": 1224,
   "metadata": {
    "collapsed": false
   },
   "outputs": [
    {
     "name": "stdout",
     "output_type": "stream",
     "text": [
      "using mask\n"
     ]
    },
    {
     "name": "stderr",
     "output_type": "stream",
     "text": [
      "/home/abhishek/anaconda/lib/python2.7/site-packages/IPython/kernel/__main__.py:7: FutureWarning: comparison to `None` will result in an elementwise object comparison in the future.\n"
     ]
    },
    {
     "name": "stdout",
     "output_type": "stream",
     "text": [
      "BEST {'max_features': 'auto', 'max_depth': 4} 0.619892398952 [mean: 0.61951, std: 0.00021, params: {'max_features': 'auto', 'max_depth': 2}, mean: 0.61951, std: 0.00021, params: {'max_features': 'sqrt', 'max_depth': 2}, mean: 0.61951, std: 0.00021, params: {'max_features': 'log2', 'max_depth': 2}, mean: 0.61951, std: 0.00021, params: {'max_features': 'auto', 'max_depth': 3}, mean: 0.61951, std: 0.00021, params: {'max_features': 'sqrt', 'max_depth': 3}, mean: 0.61951, std: 0.00021, params: {'max_features': 'log2', 'max_depth': 3}, mean: 0.61989, std: 0.00065, params: {'max_features': 'auto', 'max_depth': 4}, mean: 0.61973, std: 0.00026, params: {'max_features': 'sqrt', 'max_depth': 4}, mean: 0.61902, std: 0.00088, params: {'max_features': 'log2', 'max_depth': 4}, mean: 0.61887, std: 0.00371, params: {'max_features': 'auto', 'max_depth': 5}, mean: 0.61945, std: 0.00249, params: {'max_features': 'sqrt', 'max_depth': 5}, mean: 0.61971, std: 0.00267, params: {'max_features': 'log2', 'max_depth': 5}]\n",
      "############# based on custom eval metric ################\n",
      "Evaluation on training data: 0.6197\n",
      "Evaluation on test data:     0.6190\n",
      "[[   0  944    0]\n",
      " [   1 1774    0]\n",
      " [   0  389    0]]\n",
      "########################################################\n"
     ]
    }
   ],
   "source": [
    "from sklearn.ensemble import RandomForestClassifier\n",
    "\n",
    "rf = RandomForestClassifier(n_estimators=50)\n",
    "params = {'max_depth': [2, 3, 4, 5], 'max_features': ['auto', 'sqrt', 'log2']}\n",
    "rf, Xtrain, ytrain, Xtest, ytest = do_classify(rf, params, dfsurvey, cols_we_want, train_labels, \n",
    "                                               mask=surveymask, score_func=eval_metric, n_jobs=-1)"
   ]
  },
  {
   "cell_type": "markdown",
   "metadata": {},
   "source": [
    "## Relative Importance Of Features"
   ]
  },
  {
   "cell_type": "code",
   "execution_count": 1225,
   "metadata": {
    "collapsed": false
   },
   "outputs": [
    {
     "data": {
      "image/png": "[encoded data removed]",
      "text/plain": [
       "<matplotlib.figure.Figure at 0x7fb44a47de50>"
      ]
     },
     "metadata": {},
     "output_type": "display_data"
    }
   ],
   "source": [
    "importance_list = rf.feature_importances_\n",
    "name_list = dfsurvey[cols_we_want].columns\n",
    "importance_list, name_list = zip(*sorted(zip(importance_list, name_list)))\n",
    "plt.barh(range(len(name_list)),importance_list,align='center')\n",
    "plt.yticks(range(len(name_list)),name_list)\n",
    "plt.xlabel('Relative Importance in the Random Forest')\n",
    "plt.ylabel('Features')\n",
    "plt.title('Relative importance of Each Feature')\n",
    "plt.show();"
   ]
  },
  {
   "cell_type": "markdown",
   "metadata": {},
   "source": [
    "## Ada Boost Classifier"
   ]
  },
  {
   "cell_type": "code",
   "execution_count": 1226,
   "metadata": {
    "collapsed": false
   },
   "outputs": [
    {
     "name": "stdout",
     "output_type": "stream",
     "text": [
      "using mask\n"
     ]
    },
    {
     "name": "stderr",
     "output_type": "stream",
     "text": [
      "/home/abhishek/anaconda/lib/python2.7/site-packages/IPython/kernel/__main__.py:7: FutureWarning: comparison to `None` will result in an elementwise object comparison in the future.\n"
     ]
    },
    {
     "name": "stdout",
     "output_type": "stream",
     "text": [
      "BEST {'n_estimators': 3} 0.616360877362 [mean: 0.61636, std: 0.00494, params: {'n_estimators': 3}, mean: 0.61591, std: 0.00620, params: {'n_estimators': 5}, mean: 0.61397, std: 0.00743, params: {'n_estimators': 8}]\n",
      "############# based on custom eval metric ################\n",
      "Evaluation on training data: 0.6307\n",
      "Evaluation on test data:     0.6212\n",
      "[[  67  877    0]\n",
      " [  43 1732    0]\n",
      " [   4  385    0]]\n",
      "########################################################\n"
     ]
    }
   ],
   "source": [
    "from sklearn.ensemble import AdaBoostClassifier\n",
    "\n",
    "clfAda = AdaBoostClassifier(rf)\n",
    "\n",
    "parameters = {\"n_estimators\": [3, 5, 8]}\n",
    "clfAda, Xtrain, ytrain, Xtest, ytest = do_classify(clfAda, parameters, dfsurvey, cols_we_want, train_labels, \n",
    "                                                   mask=surveymask, score_func=eval_metric, n_jobs=-1)"
   ]
  },
  {
   "cell_type": "markdown",
   "metadata": {},
   "source": [
    "## Gradient Boosting Classifier"
   ]
  },
  {
   "cell_type": "code",
   "execution_count": 991,
   "metadata": {
    "collapsed": false
   },
   "outputs": [
    {
     "name": "stdout",
     "output_type": "stream",
     "text": [
      "using mask\n"
     ]
    },
    {
     "name": "stderr",
     "output_type": "stream",
     "text": [
      "/home/abhishek/anaconda/lib/python2.7/site-packages/IPython/kernel/__main__.py:7: FutureWarning: comparison to `None` will result in an elementwise object comparison in the future.\n"
     ]
    },
    {
     "name": "stdout",
     "output_type": "stream",
     "text": [
      "BEST {'n_estimators': 20, 'max_depth': 1} 0.619506138778 [mean: 0.61951, std: 0.00021, params: {'n_estimators': 20, 'max_depth': 1}, mean: 0.61951, std: 0.00021, params: {'n_estimators': 25, 'max_depth': 1}, mean: 0.61951, std: 0.00021, params: {'n_estimators': 30, 'max_depth': 1}, mean: 0.61942, std: 0.00039, params: {'n_estimators': 20, 'max_depth': 2}, mean: 0.61916, std: 0.00058, params: {'n_estimators': 25, 'max_depth': 2}, mean: 0.61871, std: 0.00135, params: {'n_estimators': 30, 'max_depth': 2}, mean: 0.61806, std: 0.00072, params: {'n_estimators': 20, 'max_depth': 3}, mean: 0.61753, std: 0.00110, params: {'n_estimators': 25, 'max_depth': 3}, mean: 0.61766, std: 0.00242, params: {'n_estimators': 30, 'max_depth': 3}, mean: 0.61647, std: 0.00378, params: {'n_estimators': 20, 'max_depth': 4}, mean: 0.61582, std: 0.00418, params: {'n_estimators': 25, 'max_depth': 4}, mean: 0.61586, std: 0.00528, params: {'n_estimators': 30, 'max_depth': 4}]\n",
      "############# based on custom eval metric ################\n",
      "Evaluation on training data: 0.6195\n",
      "Evaluation on test data:     0.6193\n",
      "[[   0  944    0]\n",
      " [   0 1775    0]\n",
      " [   0  389    0]]\n",
      "########################################################\n"
     ]
    }
   ],
   "source": [
    "from sklearn.ensemble import GradientBoostingClassifier\n",
    "\n",
    "gbc = GradientBoostingClassifier()\n",
    "\n",
    "parameters = {\"n_estimators\": [20, 25, 30], \"max_depth\": [1, 2, 3, 4]}\n",
    "gbc, Xtrain, ytrain, Xtest, ytest = do_classify(gbc, parameters, dfsurvey, cols_we_want, train_labels, \n",
    "                                                   mask=surveymask, score_func=eval_metric, n_jobs=-1)"
   ]
  },
  {
   "cell_type": "markdown",
   "metadata": {},
   "source": [
    "## Extreme Gradient Boosting"
   ]
  },
  {
   "cell_type": "code",
   "execution_count": 73,
   "metadata": {
    "collapsed": true
   },
   "outputs": [],
   "source": [
    "import xgboost as xgb"
   ]
  },
  {
   "cell_type": "code",
   "execution_count": 87,
   "metadata": {
    "collapsed": false
   },
   "outputs": [
    {
     "name": "stderr",
     "output_type": "stream",
     "text": [
      "[0]\ttrain-custom_score:0.712571\tval-custom_score:0.672803\n",
      "[1]\ttrain-custom_score:0.720857\tval-custom_score:0.678314\n",
      "[2]\ttrain-custom_score:0.724400\tval-custom_score:0.691183\n",
      "[3]\ttrain-custom_score:0.726086\tval-custom_score:0.697111\n",
      "[4]\ttrain-custom_score:0.727171\tval-custom_score:0.690229\n",
      "[5]\ttrain-custom_score:0.730214\tval-custom_score:0.692017\n",
      "[6]\ttrain-custom_score:0.731229\tval-custom_score:0.693774\n",
      "[7]\ttrain-custom_score:0.733886\tval-custom_score:0.694400\n",
      "[8]\ttrain-custom_score:0.731329\tval-custom_score:0.693089\n",
      "[9]\ttrain-custom_score:0.731929\tval-custom_score:0.695055\n",
      "[10]\ttrain-custom_score:0.732414\tval-custom_score:0.692553\n",
      "[11]\ttrain-custom_score:0.733071\tval-custom_score:0.692523\n",
      "[12]\ttrain-custom_score:0.730314\tval-custom_score:0.694191\n",
      "[13]\ttrain-custom_score:0.731114\tval-custom_score:0.696217\n",
      "[14]\ttrain-custom_score:0.733271\tval-custom_score:0.694847\n",
      "[15]\ttrain-custom_score:0.734114\tval-custom_score:0.694519\n",
      "[16]\ttrain-custom_score:0.733886\tval-custom_score:0.694549\n",
      "[17]\ttrain-custom_score:0.734971\tval-custom_score:0.693029\n",
      "[18]\ttrain-custom_score:0.736814\tval-custom_score:0.693447\n",
      "[19]\ttrain-custom_score:0.735643\tval-custom_score:0.693357\n",
      "[20]\ttrain-custom_score:0.735643\tval-custom_score:0.693983\n",
      "[21]\ttrain-custom_score:0.736657\tval-custom_score:0.693476\n",
      "[22]\ttrain-custom_score:0.737414\tval-custom_score:0.694251\n",
      "[23]\ttrain-custom_score:0.737914\tval-custom_score:0.691927\n",
      "[24]\ttrain-custom_score:0.738943\tval-custom_score:0.690915\n",
      "[25]\ttrain-custom_score:0.740729\tval-custom_score:0.689246\n",
      "[26]\ttrain-custom_score:0.741686\tval-custom_score:0.690825\n",
      "[27]\ttrain-custom_score:0.743429\tval-custom_score:0.688800\n",
      "[28]\ttrain-custom_score:0.742971\tval-custom_score:0.690497\n",
      "[29]\ttrain-custom_score:0.744286\tval-custom_score:0.690021\n"
     ]
    }
   ],
   "source": [
    "# Building a xgboost model\n",
    "\n",
    "params = {}\n",
    "\n",
    "params['silent'] = 1\n",
    "params['objective'] = 'multi:softmax'\n",
    "params['eta'] = 0.1\n",
    "params['num_class'] = 3\n",
    "params['subsample'] = 0.8\n",
    "params['colsample_bytree'] = 0.8\n",
    "\n",
    "plst = list(params.items())\n",
    "\n",
    "offset = 7000\n",
    "\n",
    "num_rounds = 30\n",
    "xgtest = xgb.DMatrix(test)\n",
    "\n",
    "# Create train and validation matrices\n",
    "xgtrain = xgb.DMatrix(train[:offset, :], label=train_labels[:offset])\n",
    "xgval = xgb.DMatrix(train[offset:, :], label=train_labels[offset:])\n",
    "\n",
    "# Train\n",
    "evallist = [(xgtrain, 'train'), (xgval, 'val')]\n",
    "model = xgb.train(plst, xgtrain, num_rounds, evallist, feval=score_xgb)"
   ]
  },
  {
   "cell_type": "code",
   "execution_count": 88,
   "metadata": {
    "collapsed": true
   },
   "outputs": [],
   "source": [
    "train_data = xgb.DMatrix(train, label=train_labels)"
   ]
  },
  {
   "cell_type": "code",
   "execution_count": 89,
   "metadata": {
    "collapsed": true
   },
   "outputs": [],
   "source": [
    "bst = xgb.train(plst, train_data, num_rounds)\n",
    "xgb_preds = bst.predict(xgtest)"
   ]
  },
  {
   "cell_type": "code",
   "execution_count": 91,
   "metadata": {
    "collapsed": false
   },
   "outputs": [],
   "source": [
    "preds_labels = inverse_mapping_func(xgb_preds)"
   ]
  },
  {
   "cell_type": "code",
   "execution_count": 92,
   "metadata": {
    "collapsed": false
   },
   "outputs": [],
   "source": [
    "create_submission_file('./xgboost_tuned.csv', dfsurvey_test.ID.values, preds_labels)"
   ]
  },
  {
   "cell_type": "code",
   "execution_count": null,
   "metadata": {
    "collapsed": true
   },
   "outputs": [],
   "source": []
  },
  {
   "cell_type": "markdown",
   "metadata": {},
   "source": [
    "## Training"
   ]
  },
  {
   "cell_type": "code",
   "execution_count": 1227,
   "metadata": {
    "collapsed": false
   },
   "outputs": [
    {
     "data": {
      "text/plain": [
       "AdaBoostClassifier(algorithm='SAMME.R',\n",
       "          base_estimator=RandomForestClassifier(bootstrap=True, class_weight=None, criterion='gini',\n",
       "            max_depth=4, max_features='auto', max_leaf_nodes=None,\n",
       "            min_samples_leaf=1, min_samples_split=2,\n",
       "            min_weight_fraction_leaf=0.0, n_estimators=50, n_jobs=1,\n",
       "            oob_score=False, random_state=None, verbose=0,\n",
       "            warm_start=False),\n",
       "          learning_rate=1.0, n_estimators=3, random_state=None)"
      ]
     },
     "execution_count": 1227,
     "metadata": {},
     "output_type": "execute_result"
    }
   ],
   "source": [
    "# train on the balanced set\n",
    "#rf.fit(dfsurvey[cols_we_want], train_labels)\n",
    "clfAda.fit(dfsurvey[cols_we_want], train_labels)\n",
    "# log.fit(dfsurvey[cols_we_want], train_labels)\n",
    "# gbc.fit(dfsurvey[cols_we_want], train_labels)"
   ]
  },
  {
   "cell_type": "code",
   "execution_count": 1228,
   "metadata": {
    "collapsed": true
   },
   "outputs": [],
   "source": [
    "ada_preds = clfAda.predict(dfsurvey_test[cols_we_want])\n",
    "#rf_preds = rf.predict(dfsurvey_test[cols_we_want])\n",
    "# log_preds = log.predict_proba(dfsurvey[cols_we_want])\n",
    "# gbc_preds = gbc.predict_proba(dfsurvey[cols_we_want])"
   ]
  },
  {
   "cell_type": "code",
   "execution_count": 1232,
   "metadata": {
    "collapsed": true
   },
   "outputs": [],
   "source": [
    "ada_preds_labels = inverse_mapping_func(ada_preds)"
   ]
  },
  {
   "cell_type": "code",
   "execution_count": 1234,
   "metadata": {
    "collapsed": true
   },
   "outputs": [],
   "source": [
    "create_submission_file('./ada_with_rf_base.csv', dfsurvey_test.ID.values, ada_preds_labels)"
   ]
  },
  {
   "cell_type": "code",
   "execution_count": null,
   "metadata": {
    "collapsed": true
   },
   "outputs": [],
   "source": []
  }
 ],
 "metadata": {
  "kernelspec": {
   "display_name": "Python 2",
   "language": "python",
   "name": "python2"
  },
  "language_info": {
   "codemirror_mode": {
    "name": "ipython",
    "version": 2
   },
   "file_extension": ".py",
   "mimetype": "text/x-python",
   "name": "python",
   "nbconvert_exporter": "python",
   "pygments_lexer": "ipython2",
   "version": "2.7.10"
  }
 },
 "nbformat": 4,
 "nbformat_minor": 0
}
