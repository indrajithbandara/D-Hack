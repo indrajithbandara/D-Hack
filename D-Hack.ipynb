{
 "cells": [
  {
   "cell_type": "code",
   "execution_count": 1,
   "metadata": {
    "collapsed": true
   },
   "outputs": [],
   "source": [
    "%matplotlib inline\n",
    "import numpy as np\n",
    "import scipy as sp\n",
    "import matplotlib as mpl\n",
    "import matplotlib.cm as cm\n",
    "import matplotlib.pyplot as plt\n",
    "import pandas as pd\n",
    "pd.set_option('display.width', 500)\n",
    "pd.set_option('display.max_columns', 100)\n",
    "pd.set_option('display.notebook_repr_html', True)\n",
    "import seaborn as sns\n",
    "sns.set_style(\"whitegrid\")\n",
    "sns.set_context(\"poster\")"
   ]
  },
  {
   "cell_type": "code",
   "execution_count": 1002,
   "metadata": {
    "collapsed": true
   },
   "outputs": [],
   "source": [
    "%run scripts/helper.py"
   ]
  },
  {
   "cell_type": "code",
   "execution_count": 934,
   "metadata": {
    "collapsed": false
   },
   "outputs": [
    {
     "data": {
      "text/html": [
       "<div>\n",
       "<table border=\"1\" class=\"dataframe\">\n",
       "  <thead>\n",
       "    <tr style=\"text-align: right;\">\n",
       "      <th></th>\n",
       "      <th>ID</th>\n",
       "      <th>Var1</th>\n",
       "      <th>WorkStatus</th>\n",
       "      <th>Score</th>\n",
       "      <th>Divorce</th>\n",
       "      <th>Widowed</th>\n",
       "      <th>Education</th>\n",
       "      <th>Residence_Region</th>\n",
       "      <th>babies</th>\n",
       "      <th>preteen</th>\n",
       "      <th>teens</th>\n",
       "      <th>income</th>\n",
       "      <th>Engagement_Religion</th>\n",
       "      <th>Var2</th>\n",
       "      <th>TVhours</th>\n",
       "      <th>Gender</th>\n",
       "      <th>Unemployed10</th>\n",
       "      <th>Happy</th>\n",
       "    </tr>\n",
       "  </thead>\n",
       "  <tbody>\n",
       "    <tr>\n",
       "      <th>0</th>\n",
       "      <td>10000123</td>\n",
       "      <td>A</td>\n",
       "      <td>keeping house</td>\n",
       "      <td>46</td>\n",
       "      <td>NaN</td>\n",
       "      <td>no</td>\n",
       "      <td>12</td>\n",
       "      <td>middle atlantic</td>\n",
       "      <td>2</td>\n",
       "      <td>3</td>\n",
       "      <td>0</td>\n",
       "      <td>$10000 - 14999</td>\n",
       "      <td>sevrl times a yr</td>\n",
       "      <td>2</td>\n",
       "      <td>2</td>\n",
       "      <td>1</td>\n",
       "      <td>1</td>\n",
       "      <td>Pretty Happy</td>\n",
       "    </tr>\n",
       "    <tr>\n",
       "      <th>1</th>\n",
       "      <td>10000125</td>\n",
       "      <td>A</td>\n",
       "      <td>working fulltime</td>\n",
       "      <td>29</td>\n",
       "      <td>no</td>\n",
       "      <td>no</td>\n",
       "      <td>12</td>\n",
       "      <td>foreign</td>\n",
       "      <td>0</td>\n",
       "      <td>0</td>\n",
       "      <td>0</td>\n",
       "      <td>$15000 - 19999</td>\n",
       "      <td>more thn once wk</td>\n",
       "      <td>1</td>\n",
       "      <td>1</td>\n",
       "      <td>1</td>\n",
       "      <td>NaN</td>\n",
       "      <td>Pretty Happy</td>\n",
       "    </tr>\n",
       "    <tr>\n",
       "      <th>2</th>\n",
       "      <td>10000126</td>\n",
       "      <td>A</td>\n",
       "      <td>working fulltime</td>\n",
       "      <td>42</td>\n",
       "      <td>yes</td>\n",
       "      <td>no</td>\n",
       "      <td>8</td>\n",
       "      <td>foreign</td>\n",
       "      <td>0</td>\n",
       "      <td>0</td>\n",
       "      <td>0</td>\n",
       "      <td>$15000 - 19999</td>\n",
       "      <td>once a year</td>\n",
       "      <td>2</td>\n",
       "      <td>3</td>\n",
       "      <td>0</td>\n",
       "      <td>1</td>\n",
       "      <td>Not Happy</td>\n",
       "    </tr>\n",
       "    <tr>\n",
       "      <th>3</th>\n",
       "      <td>10000127</td>\n",
       "      <td>A</td>\n",
       "      <td>working parttime</td>\n",
       "      <td>36</td>\n",
       "      <td>NaN</td>\n",
       "      <td>NaN</td>\n",
       "      <td>13</td>\n",
       "      <td>middle atlantic</td>\n",
       "      <td>0</td>\n",
       "      <td>1</td>\n",
       "      <td>1</td>\n",
       "      <td>$10000 - 14999</td>\n",
       "      <td>once a year</td>\n",
       "      <td>1</td>\n",
       "      <td>NaN</td>\n",
       "      <td>1</td>\n",
       "      <td>0</td>\n",
       "      <td>Not Happy</td>\n",
       "    </tr>\n",
       "    <tr>\n",
       "      <th>4</th>\n",
       "      <td>10000130</td>\n",
       "      <td>A</td>\n",
       "      <td>working fulltime</td>\n",
       "      <td>44</td>\n",
       "      <td>NaN</td>\n",
       "      <td>NaN</td>\n",
       "      <td>12</td>\n",
       "      <td>foreign</td>\n",
       "      <td>0</td>\n",
       "      <td>0</td>\n",
       "      <td>0</td>\n",
       "      <td>$10000 - 14999</td>\n",
       "      <td>more thn once wk</td>\n",
       "      <td>2</td>\n",
       "      <td>4</td>\n",
       "      <td>0</td>\n",
       "      <td>0</td>\n",
       "      <td>Very Happy</td>\n",
       "    </tr>\n",
       "  </tbody>\n",
       "</table>\n",
       "</div>"
      ],
      "text/plain": [
       "         ID Var1        WorkStatus  Score Divorce Widowed  Education Residence_Region  babies  preteen  teens          income Engagement_Religion  Var2  TVhours  Gender  Unemployed10         Happy\n",
       "0  10000123    A     keeping house     46     NaN      no         12  middle atlantic       2        3      0  $10000 - 14999    sevrl times a yr     2        2       1             1  Pretty Happy\n",
       "1  10000125    A  working fulltime     29      no      no         12          foreign       0        0      0  $15000 - 19999    more thn once wk     1        1       1           NaN  Pretty Happy\n",
       "2  10000126    A  working fulltime     42     yes      no          8          foreign       0        0      0  $15000 - 19999         once a year     2        3       0             1     Not Happy\n",
       "3  10000127    A  working parttime     36     NaN     NaN         13  middle atlantic       0        1      1  $10000 - 14999         once a year     1      NaN       1             0     Not Happy\n",
       "4  10000130    A  working fulltime     44     NaN     NaN         12          foreign       0        0      0  $10000 - 14999    more thn once wk     2        4       0             0    Very Happy"
      ]
     },
     "execution_count": 934,
     "metadata": {},
     "output_type": "execute_result"
    }
   ],
   "source": [
    "# load data\n",
    "dfsurvey = pd.read_csv('./data/train_FBFog7d.csv')\n",
    "dfsurvey.head()"
   ]
  },
  {
   "cell_type": "code",
   "execution_count": 935,
   "metadata": {
    "collapsed": false
   },
   "outputs": [
    {
     "name": "stdout",
     "output_type": "stream",
     "text": [
      "<class 'pandas.core.frame.DataFrame'>\n",
      "Int64Index: 10357 entries, 0 to 10356\n",
      "Data columns (total 18 columns):\n",
      "ID                     10357 non-null int64\n",
      "Var1                   10122 non-null object\n",
      "WorkStatus             10355 non-null object\n",
      "Score                  9840 non-null float64\n",
      "Divorce                5919 non-null object\n",
      "Widowed                6512 non-null object\n",
      "Education              10170 non-null float64\n",
      "Residence_Region       10357 non-null object\n",
      "babies                 10295 non-null float64\n",
      "preteen                10294 non-null float64\n",
      "teens                  10304 non-null float64\n",
      "income                 9133 non-null object\n",
      "Engagement_Religion    10201 non-null object\n",
      "Var2                   10357 non-null int64\n",
      "TVhours                7121 non-null float64\n",
      "Gender                 10357 non-null int64\n",
      "Unemployed10           6845 non-null float64\n",
      "Happy                  10357 non-null object\n",
      "dtypes: float64(7), int64(3), object(8)\n",
      "memory usage: 1.5+ MB\n"
     ]
    }
   ],
   "source": [
    "# basic info about survey dataset\n",
    "dfsurvey.info()"
   ]
  },
  {
   "cell_type": "code",
   "execution_count": 936,
   "metadata": {
    "collapsed": false
   },
   "outputs": [],
   "source": [
    "# lets see the class distrbution\n",
    "class_dist = dfsurvey.Happy.value_counts()"
   ]
  },
  {
   "cell_type": "code",
   "execution_count": 937,
   "metadata": {
    "collapsed": false
   },
   "outputs": [
    {
     "data": {
      "text/plain": [
       "Pretty Happy    5916\n",
       "Very Happy      3146\n",
       "Not Happy       1295\n",
       "dtype: int64"
      ]
     },
     "execution_count": 937,
     "metadata": {},
     "output_type": "execute_result"
    }
   ],
   "source": [
    "class_dist"
   ]
  },
  {
   "cell_type": "code",
   "execution_count": 938,
   "metadata": {
    "collapsed": false
   },
   "outputs": [
    {
     "data": {
      "text/plain": [
       "57.120787872936177"
      ]
     },
     "execution_count": 938,
     "metadata": {},
     "output_type": "execute_result"
    }
   ],
   "source": [
    "(class_dist[0] * 1. / class_dist.sum(axis=0)) * 100."
   ]
  },
  {
   "cell_type": "markdown",
   "metadata": {},
   "source": [
    "** Due to asymmetry in class distrbution if we always predict Pretty Happy we would be correct 57% percent of the time, but accuracy is not the correct metric here **"
   ]
  },
  {
   "cell_type": "markdown",
   "metadata": {},
   "source": [
    "## Base Model"
   ]
  },
  {
   "cell_type": "code",
   "execution_count": 939,
   "metadata": {
    "collapsed": false
   },
   "outputs": [
    {
     "data": {
      "text/html": [
       "<div>\n",
       "<table border=\"1\" class=\"dataframe\">\n",
       "  <thead>\n",
       "    <tr style=\"text-align: right;\">\n",
       "      <th></th>\n",
       "      <th>ID</th>\n",
       "      <th>Var1</th>\n",
       "      <th>WorkStatus</th>\n",
       "      <th>Score</th>\n",
       "      <th>Divorce</th>\n",
       "      <th>Widowed</th>\n",
       "      <th>Education</th>\n",
       "      <th>Residence_Region</th>\n",
       "      <th>babies</th>\n",
       "      <th>preteen</th>\n",
       "      <th>teens</th>\n",
       "      <th>income</th>\n",
       "      <th>Engagement_Religion</th>\n",
       "      <th>Var2</th>\n",
       "      <th>TVhours</th>\n",
       "      <th>Gender</th>\n",
       "      <th>Unemployed10</th>\n",
       "    </tr>\n",
       "  </thead>\n",
       "  <tbody>\n",
       "    <tr>\n",
       "      <th>0</th>\n",
       "      <td>10000124</td>\n",
       "      <td>A</td>\n",
       "      <td>working fulltime</td>\n",
       "      <td>22</td>\n",
       "      <td>no</td>\n",
       "      <td>no</td>\n",
       "      <td>12</td>\n",
       "      <td>foreign</td>\n",
       "      <td>0</td>\n",
       "      <td>0</td>\n",
       "      <td>0</td>\n",
       "      <td>NaN</td>\n",
       "      <td>every week</td>\n",
       "      <td>2</td>\n",
       "      <td>3</td>\n",
       "      <td>0</td>\n",
       "      <td>0</td>\n",
       "    </tr>\n",
       "    <tr>\n",
       "      <th>1</th>\n",
       "      <td>10000133</td>\n",
       "      <td>A</td>\n",
       "      <td>working fulltime</td>\n",
       "      <td>30</td>\n",
       "      <td>NaN</td>\n",
       "      <td>NaN</td>\n",
       "      <td>0</td>\n",
       "      <td>foreign</td>\n",
       "      <td>0</td>\n",
       "      <td>0</td>\n",
       "      <td>0</td>\n",
       "      <td>NaN</td>\n",
       "      <td>sevrl times a yr</td>\n",
       "      <td>2</td>\n",
       "      <td>2</td>\n",
       "      <td>1</td>\n",
       "      <td>1</td>\n",
       "    </tr>\n",
       "    <tr>\n",
       "      <th>2</th>\n",
       "      <td>10000149</td>\n",
       "      <td>A</td>\n",
       "      <td>other</td>\n",
       "      <td>NaN</td>\n",
       "      <td>NaN</td>\n",
       "      <td>no</td>\n",
       "      <td>12</td>\n",
       "      <td>foreign</td>\n",
       "      <td>0</td>\n",
       "      <td>0</td>\n",
       "      <td>0</td>\n",
       "      <td>$5000 to 5999</td>\n",
       "      <td>every week</td>\n",
       "      <td>2</td>\n",
       "      <td>4</td>\n",
       "      <td>1</td>\n",
       "      <td>0</td>\n",
       "    </tr>\n",
       "    <tr>\n",
       "      <th>3</th>\n",
       "      <td>10000156</td>\n",
       "      <td>A</td>\n",
       "      <td>keeping house</td>\n",
       "      <td>28</td>\n",
       "      <td>NaN</td>\n",
       "      <td>no</td>\n",
       "      <td>16</td>\n",
       "      <td>foreign</td>\n",
       "      <td>0</td>\n",
       "      <td>0</td>\n",
       "      <td>0</td>\n",
       "      <td>$1000 to 2999</td>\n",
       "      <td>every week</td>\n",
       "      <td>2</td>\n",
       "      <td>7</td>\n",
       "      <td>1</td>\n",
       "      <td>1</td>\n",
       "    </tr>\n",
       "    <tr>\n",
       "      <th>4</th>\n",
       "      <td>10000161</td>\n",
       "      <td>A</td>\n",
       "      <td>working parttime</td>\n",
       "      <td>58</td>\n",
       "      <td>yes</td>\n",
       "      <td>NaN</td>\n",
       "      <td>19</td>\n",
       "      <td>e. nor. central</td>\n",
       "      <td>0</td>\n",
       "      <td>0</td>\n",
       "      <td>0</td>\n",
       "      <td>NaN</td>\n",
       "      <td>never</td>\n",
       "      <td>1</td>\n",
       "      <td>NaN</td>\n",
       "      <td>1</td>\n",
       "      <td>1</td>\n",
       "    </tr>\n",
       "  </tbody>\n",
       "</table>\n",
       "</div>"
      ],
      "text/plain": [
       "         ID Var1        WorkStatus  Score Divorce Widowed  Education Residence_Region  babies  preteen  teens         income Engagement_Religion  Var2  TVhours  Gender  Unemployed10\n",
       "0  10000124    A  working fulltime     22      no      no         12          foreign       0        0      0            NaN          every week     2        3       0             0\n",
       "1  10000133    A  working fulltime     30     NaN     NaN          0          foreign       0        0      0            NaN    sevrl times a yr     2        2       1             1\n",
       "2  10000149    A             other    NaN     NaN      no         12          foreign       0        0      0  $5000 to 5999          every week     2        4       1             0\n",
       "3  10000156    A     keeping house     28     NaN      no         16          foreign       0        0      0  $1000 to 2999          every week     2        7       1             1\n",
       "4  10000161    A  working parttime     58     yes     NaN         19  e. nor. central       0        0      0            NaN               never     1      NaN       1             1"
      ]
     },
     "execution_count": 939,
     "metadata": {},
     "output_type": "execute_result"
    }
   ],
   "source": [
    "# Let's create a classifier that always predicts Pretty Happy for test dataset\n",
    "dfsurvey_test = pd.read_csv('./data/Test_L4P23N3.csv')\n",
    "dfsurvey_test.head()"
   ]
  },
  {
   "cell_type": "code",
   "execution_count": 940,
   "metadata": {
    "collapsed": true
   },
   "outputs": [],
   "source": [
    "def map_emotions_to_int(emotion):\n",
    "    return emotion_dict[emotion]\n",
    "\n",
    "train_labels = dfsurvey.Happy.map(map_emotions_to_int)"
   ]
  },
  {
   "cell_type": "markdown",
   "metadata": {},
   "source": [
    "### Train Test Split"
   ]
  },
  {
   "cell_type": "code",
   "execution_count": 941,
   "metadata": {
    "collapsed": true
   },
   "outputs": [],
   "source": [
    "surveymask = split_dataset(dfsurvey, train_labels)"
   ]
  },
  {
   "cell_type": "code",
   "execution_count": 942,
   "metadata": {
    "collapsed": true
   },
   "outputs": [],
   "source": [
    "X_train = dfsurvey[surveymask]\n",
    "X_test = dfsurvey[~surveymask]\n",
    "\n",
    "y_train = train_labels[surveymask]\n",
    "y_test = train_labels[~surveymask]"
   ]
  },
  {
   "cell_type": "markdown",
   "metadata": {},
   "source": [
    "## Mark all predictions as Very Happy"
   ]
  },
  {
   "cell_type": "code",
   "execution_count": 943,
   "metadata": {
    "collapsed": false
   },
   "outputs": [],
   "source": [
    "y_pred_test = np.array([0] * y_test.shape[0])"
   ]
  },
  {
   "cell_type": "code",
   "execution_count": 944,
   "metadata": {
    "collapsed": false
   },
   "outputs": [
    {
     "name": "stdout",
     "output_type": "stream",
     "text": [
      "Average cost for this submission   0.221589446589\n"
     ]
    }
   ],
   "source": [
    "print 'Average cost for this submission  ', score(y_test, y_pred_test)"
   ]
  },
  {
   "cell_type": "markdown",
   "metadata": {},
   "source": [
    "## Mark all predictions as Pretty Happy"
   ]
  },
  {
   "cell_type": "code",
   "execution_count": 945,
   "metadata": {
    "collapsed": true
   },
   "outputs": [],
   "source": [
    "y_pred_test = np.array([1] * y_test.shape[0])"
   ]
  },
  {
   "cell_type": "code",
   "execution_count": 946,
   "metadata": {
    "collapsed": false
   },
   "outputs": [
    {
     "name": "stdout",
     "output_type": "stream",
     "text": [
      "Average cost for this submission  0.619337194337\n"
     ]
    }
   ],
   "source": [
    "print 'Average cost for this submission ', score(y_test, y_pred_test)"
   ]
  },
  {
   "cell_type": "markdown",
   "metadata": {},
   "source": [
    "## Mark all predictions as Not Happy"
   ]
  },
  {
   "cell_type": "code",
   "execution_count": 947,
   "metadata": {
    "collapsed": true
   },
   "outputs": [],
   "source": [
    "y_pred_test = np.array([2] * y_test.shape[0])"
   ]
  },
  {
   "cell_type": "code",
   "execution_count": 948,
   "metadata": {
    "collapsed": false
   },
   "outputs": [
    {
     "name": "stdout",
     "output_type": "stream",
     "text": [
      "Average cost for this submission  0.269755469755\n"
     ]
    }
   ],
   "source": [
    "print 'Average cost for this submission ', score(y_test, y_pred_test)"
   ]
  },
  {
   "cell_type": "markdown",
   "metadata": {},
   "source": [
    "** Clearly as you can see, predicting the majority class gives us the best score **"
   ]
  },
  {
   "cell_type": "markdown",
   "metadata": {},
   "source": [
    "## Data Cleanup"
   ]
  },
  {
   "cell_type": "code",
   "execution_count": 949,
   "metadata": {
    "collapsed": false
   },
   "outputs": [
    {
     "data": {
      "text/html": [
       "<div>\n",
       "<table border=\"1\" class=\"dataframe\">\n",
       "  <thead>\n",
       "    <tr style=\"text-align: right;\">\n",
       "      <th></th>\n",
       "      <th>ID</th>\n",
       "      <th>Var1</th>\n",
       "      <th>WorkStatus</th>\n",
       "      <th>Score</th>\n",
       "      <th>Divorce</th>\n",
       "      <th>Widowed</th>\n",
       "      <th>Education</th>\n",
       "      <th>Residence_Region</th>\n",
       "      <th>babies</th>\n",
       "      <th>preteen</th>\n",
       "      <th>teens</th>\n",
       "      <th>income</th>\n",
       "      <th>Engagement_Religion</th>\n",
       "      <th>Var2</th>\n",
       "      <th>TVhours</th>\n",
       "      <th>Gender</th>\n",
       "      <th>Unemployed10</th>\n",
       "      <th>Happy</th>\n",
       "    </tr>\n",
       "  </thead>\n",
       "  <tbody>\n",
       "    <tr>\n",
       "      <th>0</th>\n",
       "      <td>10000123</td>\n",
       "      <td>A</td>\n",
       "      <td>keeping house</td>\n",
       "      <td>46</td>\n",
       "      <td>NaN</td>\n",
       "      <td>no</td>\n",
       "      <td>12</td>\n",
       "      <td>middle atlantic</td>\n",
       "      <td>2</td>\n",
       "      <td>3</td>\n",
       "      <td>0</td>\n",
       "      <td>$10000 - 14999</td>\n",
       "      <td>sevrl times a yr</td>\n",
       "      <td>2</td>\n",
       "      <td>2</td>\n",
       "      <td>1</td>\n",
       "      <td>1</td>\n",
       "      <td>Pretty Happy</td>\n",
       "    </tr>\n",
       "    <tr>\n",
       "      <th>1</th>\n",
       "      <td>10000125</td>\n",
       "      <td>A</td>\n",
       "      <td>working fulltime</td>\n",
       "      <td>29</td>\n",
       "      <td>no</td>\n",
       "      <td>no</td>\n",
       "      <td>12</td>\n",
       "      <td>foreign</td>\n",
       "      <td>0</td>\n",
       "      <td>0</td>\n",
       "      <td>0</td>\n",
       "      <td>$15000 - 19999</td>\n",
       "      <td>more thn once wk</td>\n",
       "      <td>1</td>\n",
       "      <td>1</td>\n",
       "      <td>1</td>\n",
       "      <td>NaN</td>\n",
       "      <td>Pretty Happy</td>\n",
       "    </tr>\n",
       "    <tr>\n",
       "      <th>2</th>\n",
       "      <td>10000126</td>\n",
       "      <td>A</td>\n",
       "      <td>working fulltime</td>\n",
       "      <td>42</td>\n",
       "      <td>yes</td>\n",
       "      <td>no</td>\n",
       "      <td>8</td>\n",
       "      <td>foreign</td>\n",
       "      <td>0</td>\n",
       "      <td>0</td>\n",
       "      <td>0</td>\n",
       "      <td>$15000 - 19999</td>\n",
       "      <td>once a year</td>\n",
       "      <td>2</td>\n",
       "      <td>3</td>\n",
       "      <td>0</td>\n",
       "      <td>1</td>\n",
       "      <td>Not Happy</td>\n",
       "    </tr>\n",
       "    <tr>\n",
       "      <th>3</th>\n",
       "      <td>10000127</td>\n",
       "      <td>A</td>\n",
       "      <td>working parttime</td>\n",
       "      <td>36</td>\n",
       "      <td>NaN</td>\n",
       "      <td>NaN</td>\n",
       "      <td>13</td>\n",
       "      <td>middle atlantic</td>\n",
       "      <td>0</td>\n",
       "      <td>1</td>\n",
       "      <td>1</td>\n",
       "      <td>$10000 - 14999</td>\n",
       "      <td>once a year</td>\n",
       "      <td>1</td>\n",
       "      <td>NaN</td>\n",
       "      <td>1</td>\n",
       "      <td>0</td>\n",
       "      <td>Not Happy</td>\n",
       "    </tr>\n",
       "    <tr>\n",
       "      <th>4</th>\n",
       "      <td>10000130</td>\n",
       "      <td>A</td>\n",
       "      <td>working fulltime</td>\n",
       "      <td>44</td>\n",
       "      <td>NaN</td>\n",
       "      <td>NaN</td>\n",
       "      <td>12</td>\n",
       "      <td>foreign</td>\n",
       "      <td>0</td>\n",
       "      <td>0</td>\n",
       "      <td>0</td>\n",
       "      <td>$10000 - 14999</td>\n",
       "      <td>more thn once wk</td>\n",
       "      <td>2</td>\n",
       "      <td>4</td>\n",
       "      <td>0</td>\n",
       "      <td>0</td>\n",
       "      <td>Very Happy</td>\n",
       "    </tr>\n",
       "  </tbody>\n",
       "</table>\n",
       "</div>"
      ],
      "text/plain": [
       "         ID Var1        WorkStatus  Score Divorce Widowed  Education Residence_Region  babies  preteen  teens          income Engagement_Religion  Var2  TVhours  Gender  Unemployed10         Happy\n",
       "0  10000123    A     keeping house     46     NaN      no         12  middle atlantic       2        3      0  $10000 - 14999    sevrl times a yr     2        2       1             1  Pretty Happy\n",
       "1  10000125    A  working fulltime     29      no      no         12          foreign       0        0      0  $15000 - 19999    more thn once wk     1        1       1           NaN  Pretty Happy\n",
       "2  10000126    A  working fulltime     42     yes      no          8          foreign       0        0      0  $15000 - 19999         once a year     2        3       0             1     Not Happy\n",
       "3  10000127    A  working parttime     36     NaN     NaN         13  middle atlantic       0        1      1  $10000 - 14999         once a year     1      NaN       1             0     Not Happy\n",
       "4  10000130    A  working fulltime     44     NaN     NaN         12          foreign       0        0      0  $10000 - 14999    more thn once wk     2        4       0             0    Very Happy"
      ]
     },
     "execution_count": 949,
     "metadata": {},
     "output_type": "execute_result"
    }
   ],
   "source": [
    "dfsurvey.head()"
   ]
  },
  {
   "cell_type": "code",
   "execution_count": 950,
   "metadata": {
    "collapsed": true
   },
   "outputs": [],
   "source": [
    "dfsurvey['Happy'] = train_labels"
   ]
  },
  {
   "cell_type": "markdown",
   "metadata": {},
   "source": [
    "## Deal With Missing Values"
   ]
  },
  {
   "cell_type": "code",
   "execution_count": 951,
   "metadata": {
    "collapsed": false
   },
   "outputs": [],
   "source": [
    "# income\n",
    "dfsurvey['income'] = dfsurvey.income.fillna('-999')\n",
    "dfsurvey_test['income'] = dfsurvey_test.income.fillna('-999')\n",
    "\n",
    "train_convert, test_convert = convert_to_labels(dfsurvey, dfsurvey_test, 'income')\n",
    "dfsurvey['income'] = train_convert\n",
    "dfsurvey_test['income'] = test_convert"
   ]
  },
  {
   "cell_type": "code",
   "execution_count": 952,
   "metadata": {
    "collapsed": false
   },
   "outputs": [],
   "source": [
    "# Var1\n",
    "dfsurvey['Var1'] = dfsurvey.Var1.fillna('-999')\n",
    "dfsurvey_test['Var1'] = dfsurvey_test.Var1.fillna('-999')\n",
    "\n",
    "train_convert, test_convert = convert_to_labels(dfsurvey, dfsurvey_test, 'Var1')\n",
    "dfsurvey['Var1'] = train_convert\n",
    "dfsurvey_test['Var1'] = test_convert"
   ]
  },
  {
   "cell_type": "code",
   "execution_count": 953,
   "metadata": {
    "collapsed": false
   },
   "outputs": [],
   "source": [
    "# Work Status\n",
    "dfsurvey['WorkStatus'] = dfsurvey.WorkStatus.fillna('-999')\n",
    "dfsurvey_test['WorkStatus'] = dfsurvey_test.WorkStatus.fillna('-999')\n",
    "\n",
    "train_convert, test_convert = convert_to_labels(dfsurvey, dfsurvey_test, 'WorkStatus')\n",
    "\n",
    "dfsurvey['WorkStatus'] = train_convert\n",
    "dfsurvey_test['WorkStatus'] = test_convert"
   ]
  },
  {
   "cell_type": "code",
   "execution_count": 954,
   "metadata": {
    "collapsed": false
   },
   "outputs": [],
   "source": [
    "# Divorce\n",
    "# dfsurvey['Divorce'] = dfsurvey.Divorce.fillna('-999')\n",
    "# dfsurvey_test['Divorce'] = dfsurvey_test.Divorce.fillna('-999')\n",
    "\n",
    "# train_convert, test_convert = convert_to_labels(dfsurvey, dfsurvey_test, 'Divorce')\n",
    "\n",
    "# dfsurvey['Divorce'] = train_convert\n",
    "# dfsurvey_test['Divorce'] = test_convert\n",
    "\n",
    "dfsurvey['Divorce'] = (dfsurvey['Divorce']=='yes')\n",
    "dfsurvey_test['Divorce'] = (dfsurvey_test['Divorce']=='yes')"
   ]
  },
  {
   "cell_type": "code",
   "execution_count": 955,
   "metadata": {
    "collapsed": false
   },
   "outputs": [],
   "source": [
    "# Score ( dtype: float64 )\n",
    "dfsurvey['Score'] = dfsurvey.Score.fillna(dfsurvey.Score.median())\n",
    "dfsurvey_test['Score'] = dfsurvey_test.Score.fillna(dfsurvey_test.Score.median())"
   ]
  },
  {
   "cell_type": "code",
   "execution_count": 956,
   "metadata": {
    "collapsed": true
   },
   "outputs": [],
   "source": [
    "# Widowed \n",
    "dfsurvey['Widowed'] = dfsurvey.Widowed.fillna('-999')\n",
    "dfsurvey_test['Widowed'] = dfsurvey_test.Widowed.fillna('-999')\n",
    "\n",
    "train_convert, test_convert = convert_to_labels(dfsurvey, dfsurvey_test, 'Widowed')\n",
    "dfsurvey['Widowed'] = train_convert\n",
    "dfsurvey_test['Widowed'] = test_convert"
   ]
  },
  {
   "cell_type": "code",
   "execution_count": 957,
   "metadata": {
    "collapsed": false
   },
   "outputs": [],
   "source": [
    "# Education\n",
    "dfsurvey['Education'] = dfsurvey.Education.fillna(dfsurvey.Education.median())\n",
    "dfsurvey_test['Education'] = dfsurvey_test.Education.fillna(dfsurvey_test.Education.median())"
   ]
  },
  {
   "cell_type": "code",
   "execution_count": 958,
   "metadata": {
    "collapsed": true
   },
   "outputs": [],
   "source": [
    "# Residence Region\n",
    "dfsurvey['Residence_Region'] = dfsurvey.Residence_Region.fillna('-999')\n",
    "dfsurvey_test['Residence_Region'] = dfsurvey_test.Residence_Region.fillna('-999')\n",
    "\n",
    "train_convert, test_convert = convert_to_labels(dfsurvey, dfsurvey_test, 'Residence_Region')\n",
    "dfsurvey['Residence_Region'] = train_convert\n",
    "dfsurvey_test['Residence_Region'] = test_convert"
   ]
  },
  {
   "cell_type": "code",
   "execution_count": 188,
   "metadata": {
    "collapsed": false
   },
   "outputs": [],
   "source": [
    "# Babies\n",
    "dfsurvey['babies'] = dfsurvey.babies.fillna(-999)\n",
    "dfsurvey_test['babies'] = dfsurvey_test.babies.fillna(-999)"
   ]
  },
  {
   "cell_type": "code",
   "execution_count": 189,
   "metadata": {
    "collapsed": true
   },
   "outputs": [],
   "source": [
    "# Preteens\n",
    "dfsurvey['preteen'] = dfsurvey.preteen.fillna(-999)\n",
    "dfsurvey_test['preteen'] = dfsurvey_test.preteen.fillna(-999)"
   ]
  },
  {
   "cell_type": "code",
   "execution_count": 190,
   "metadata": {
    "collapsed": true
   },
   "outputs": [],
   "source": [
    "# Teens\n",
    "dfsurvey['teens'] = dfsurvey.teens.fillna(-999)\n",
    "dfsurvey_test['teens'] = dfsurvey_test.teens.fillna(-999)"
   ]
  },
  {
   "cell_type": "code",
   "execution_count": 968,
   "metadata": {
    "collapsed": false
   },
   "outputs": [],
   "source": [
    "# TV Hours\n",
    "dfsurvey['TVhours'] = dfsurvey.TVhours.fillna(dfsurvey.TVhours.median())\n",
    "dfsurvey_test['TVhours'] = dfsurvey_test.TVhours.fillna(dfsurvey_test.TVhours.median())"
   ]
  },
  {
   "cell_type": "code",
   "execution_count": 969,
   "metadata": {
    "collapsed": false
   },
   "outputs": [],
   "source": [
    "# Unemployment\n",
    "dfsurvey['Unemployed10'] = dfsurvey.Unemployed10.fillna(0)\n",
    "dfsurvey_test['Unemployed10'] = dfsurvey_test.Unemployed10.fillna(0)"
   ]
  },
  {
   "cell_type": "code",
   "execution_count": 976,
   "metadata": {
    "collapsed": true
   },
   "outputs": [],
   "source": [
    "# list of columns we want\n",
    "cols_we_want = ['WorkStatus', 'Divorce', 'Widowed', 'Education',\n",
    "                'TVhours', 'Unemployed10', 'income', 'Var2']"
   ]
  },
  {
   "cell_type": "markdown",
   "metadata": {},
   "source": [
    "## Classification and Cross-Validation Helper Functions"
   ]
  },
  {
   "cell_type": "code",
   "execution_count": 977,
   "metadata": {
    "collapsed": true
   },
   "outputs": [],
   "source": [
    "from sklearn.grid_search import GridSearchCV"
   ]
  },
  {
   "cell_type": "code",
   "execution_count": 978,
   "metadata": {
    "collapsed": true
   },
   "outputs": [],
   "source": [
    "# def repredict(preds, t1, t2):\n",
    "#     res = []\n",
    "    \n",
    "#     for pred in preds:\n",
    "#         if pred[1] >= t1:\n",
    "#             res.append(1)\n",
    "#         else:\n",
    "#             if pred[1] >= t2:\n",
    "#                 res.append(0)\n",
    "#             else:\n",
    "#                 res.append(2)\n",
    "#     return res"
   ]
  },
  {
   "cell_type": "code",
   "execution_count": 979,
   "metadata": {
    "collapsed": true
   },
   "outputs": [],
   "source": [
    "def cv_optimize(clf, parameters, X, y, n_jobs=1, n_folds=5, score_func=None):\n",
    "    if score_func:\n",
    "        gs = GridSearchCV(clf, param_grid=parameters, cv=n_folds, n_jobs=n_jobs, scoring=score_func)\n",
    "    else:\n",
    "        gs = GridSearchCV(clf, param_grid=parameters, n_jobs=n_jobs, cv=n_folds)\n",
    "    gs.fit(X, y)\n",
    "    print \"BEST\", gs.best_params_, gs.best_score_, gs.grid_scores_\n",
    "    best = gs.best_estimator_\n",
    "    return best"
   ]
  },
  {
   "cell_type": "code",
   "execution_count": 980,
   "metadata": {
    "collapsed": true
   },
   "outputs": [],
   "source": [
    "def do_classify(clf, parameters, indf, featurenames, targetval, mask=None, reuse_split=None, score_func=None, n_folds=5, n_jobs=1):\n",
    "    subdf=indf[featurenames]\n",
    "    \n",
    "    X=subdf.values\n",
    "    y=targetval\n",
    "    \n",
    "    if mask !=None:\n",
    "        print \"using mask\"\n",
    "        Xtrain, Xtest, ytrain, ytest = X[mask], X[~mask], y[mask], y[~mask]\n",
    "    \n",
    "    if reuse_split !=None:\n",
    "        print \"using reuse split\"\n",
    "        Xtrain, Xtest, ytrain, ytest = reuse_split['Xtrain'], reuse_split['Xtest'], reuse_split['ytrain'], reuse_split['ytest']\n",
    "    \n",
    "    if parameters:\n",
    "        clf = cv_optimize(clf, parameters, Xtrain, ytrain, n_jobs=n_jobs, n_folds=n_folds, score_func=score_func)\n",
    "    \n",
    "    clf=clf.fit(Xtrain, ytrain)\n",
    "    train_preds = clf.predict(Xtrain)\n",
    "    test_preds = clf.predict(Xtest)\n",
    "    \n",
    "    training_accuracy = score(ytrain, train_preds)\n",
    "    test_accuracy = score(ytest, test_preds)\n",
    "    \n",
    "#     train_preds_probs = clf.predict_proba(Xtrain)\n",
    "#     test_preds_probs = clf.predict_proba(Xtest)\n",
    "    \n",
    "#     train_preds_repred = repredict(train_preds_probs, 0.55, 0.30)\n",
    "#     test_preds_repred = repredict(test_preds_probs, 0.55, 0.30)\n",
    "    \n",
    "#     training_accuracy_repredict = score(ytrain, train_preds_repred)\n",
    "#     test_accuracy_repredict = score(ytest, test_preds_repred)\n",
    "    \n",
    "    print \"############# based on custom eval metric ################\"\n",
    "    print \"Evaluation on training data: %0.4f\" % (training_accuracy)\n",
    "    print \"Evaluation on test data:     %0.4f\" % (test_accuracy)\n",
    "    print confusion_matrix(ytest, test_preds)\n",
    "    print \"########################################################\"\n",
    "    \n",
    "#     print \"\\n############ after reprediction #################\"\n",
    "#     print \"Evaluation on training data: %0.4f \" % (training_accuracy_repredict)\n",
    "#     print \"Evaluation on test data:     %0.4f\" % (test_accuracy_repredict)\n",
    "#     print confusion_matrix(ytest, test_preds_repred)\n",
    "#     print \"########################################################\"\n",
    "    \n",
    "    return clf, Xtrain, ytrain, Xtest, ytest"
   ]
  },
  {
   "cell_type": "markdown",
   "metadata": {},
   "source": [
    "## Evaluation Metric"
   ]
  },
  {
   "cell_type": "code",
   "execution_count": 986,
   "metadata": {
    "collapsed": false
   },
   "outputs": [],
   "source": [
    "eval_metric = make_scorer_func()"
   ]
  },
  {
   "cell_type": "markdown",
   "metadata": {},
   "source": [
    "## Logistic Regression"
   ]
  },
  {
   "cell_type": "code",
   "execution_count": 987,
   "metadata": {
    "collapsed": false
   },
   "outputs": [
    {
     "name": "stdout",
     "output_type": "stream",
     "text": [
      "using mask\n",
      "BEST {'C': 0.01} 0.619837218927 [mean: 0.61984, std: 0.00221, params: {'C': 0.01}, mean: 0.61977, std: 0.00166, params: {'C': 0.1}, mean: 0.61788, std: 0.00210, params: {'C': 1}, mean: 0.61829, std: 0.00220, params: {'C': 10}, mean: 0.61829, std: 0.00220, params: {'C': 100}]\n",
      "############# based on custom eval metric ################\n",
      "Evaluation on training data: 0.6201\n",
      "Evaluation on test data:     0.6185\n",
      "[[   1  943    0]\n",
      " [   3 1772    0]\n",
      " [   0  389    0]]\n",
      "########################################################\n"
     ]
    },
    {
     "name": "stderr",
     "output_type": "stream",
     "text": [
      "/home/abhishek/anaconda/lib/python2.7/site-packages/IPython/kernel/__main__.py:7: FutureWarning: comparison to `None` will result in an elementwise object comparison in the future.\n"
     ]
    }
   ],
   "source": [
    "from sklearn.linear_model import LogisticRegression\n",
    "\n",
    "log = LogisticRegression()\n",
    "Cs = {'C': [0.01, 0.1, 1, 10, 100]}\n",
    "log, Xtrain, ytrain, Xtest, ytest = do_classify(log, Cs, dfsurvey, cols_we_want, train_labels, \n",
    "                                                mask=surveymask, score_func=eval_metric)"
   ]
  },
  {
   "cell_type": "markdown",
   "metadata": {},
   "source": [
    "## Random Forest Classifier"
   ]
  },
  {
   "cell_type": "code",
   "execution_count": 988,
   "metadata": {
    "collapsed": false
   },
   "outputs": [
    {
     "name": "stdout",
     "output_type": "stream",
     "text": [
      "using mask\n"
     ]
    },
    {
     "name": "stderr",
     "output_type": "stream",
     "text": [
      "/home/abhishek/anaconda/lib/python2.7/site-packages/IPython/kernel/__main__.py:7: FutureWarning: comparison to `None` will result in an elementwise object comparison in the future.\n"
     ]
    },
    {
     "name": "stdout",
     "output_type": "stream",
     "text": [
      "BEST {'max_features': 'auto', 'max_depth': 5} 0.619892398952 [mean: 0.61951, std: 0.00021, params: {'max_features': 'auto', 'max_depth': 2}, mean: 0.61951, std: 0.00021, params: {'max_features': 'sqrt', 'max_depth': 2}, mean: 0.61951, std: 0.00021, params: {'max_features': 'log2', 'max_depth': 2}, mean: 0.61951, std: 0.00021, params: {'max_features': 'auto', 'max_depth': 3}, mean: 0.61951, std: 0.00021, params: {'max_features': 'sqrt', 'max_depth': 3}, mean: 0.61951, std: 0.00021, params: {'max_features': 'log2', 'max_depth': 3}, mean: 0.61962, std: 0.00026, params: {'max_features': 'auto', 'max_depth': 4}, mean: 0.61935, std: 0.00030, params: {'max_features': 'sqrt', 'max_depth': 4}, mean: 0.61951, std: 0.00021, params: {'max_features': 'log2', 'max_depth': 4}, mean: 0.61989, std: 0.00099, params: {'max_features': 'auto', 'max_depth': 5}, mean: 0.61922, std: 0.00096, params: {'max_features': 'sqrt', 'max_depth': 5}, mean: 0.61935, std: 0.00048, params: {'max_features': 'log2', 'max_depth': 5}]\n",
      "############# based on custom eval metric ################\n",
      "Evaluation on training data: 0.6205\n",
      "Evaluation on test data:     0.6189\n",
      "[[   1  943    0]\n",
      " [   2 1773    0]\n",
      " [   0  389    0]]\n",
      "########################################################\n"
     ]
    }
   ],
   "source": [
    "from sklearn.ensemble import RandomForestClassifier\n",
    "\n",
    "rf = RandomForestClassifier(n_estimators=50)\n",
    "params = {'max_depth': [2, 3, 4, 5], 'max_features': ['auto', 'sqrt', 'log2']}\n",
    "rf, Xtrain, ytrain, Xtest, ytest = do_classify(rf, params, dfsurvey, cols_we_want, train_labels, \n",
    "                                               mask=surveymask, score_func=eval_metric, n_jobs=-1)"
   ]
  },
  {
   "cell_type": "markdown",
   "metadata": {},
   "source": [
    "## Relative Importance Of Features"
   ]
  },
  {
   "cell_type": "code",
   "execution_count": 989,
   "metadata": {
    "collapsed": false
   },
   "outputs": [
    {
     "data": {
      "image/png": "[encoded data removed]",
      "text/plain": [
       "<matplotlib.figure.Figure at 0x7fb45c91b210>"
      ]
     },
     "metadata": {},
     "output_type": "display_data"
    }
   ],
   "source": [
    "importance_list = rf.feature_importances_\n",
    "name_list = dfsurvey[cols_we_want].columns\n",
    "importance_list, name_list = zip(*sorted(zip(importance_list, name_list)))\n",
    "plt.barh(range(len(name_list)),importance_list,align='center')\n",
    "plt.yticks(range(len(name_list)),name_list)\n",
    "plt.xlabel('Relative Importance in the Random Forest')\n",
    "plt.ylabel('Features')\n",
    "plt.title('Relative importance of Each Feature')\n",
    "plt.show();"
   ]
  },
  {
   "cell_type": "markdown",
   "metadata": {},
   "source": [
    "## Ada Boost Classifier"
   ]
  },
  {
   "cell_type": "code",
   "execution_count": 990,
   "metadata": {
    "collapsed": false
   },
   "outputs": [
    {
     "name": "stdout",
     "output_type": "stream",
     "text": [
      "using mask\n"
     ]
    },
    {
     "name": "stderr",
     "output_type": "stream",
     "text": [
      "/home/abhishek/anaconda/lib/python2.7/site-packages/IPython/kernel/__main__.py:7: FutureWarning: comparison to `None` will result in an elementwise object comparison in the future.\n"
     ]
    },
    {
     "name": "stdout",
     "output_type": "stream",
     "text": [
      "BEST {'n_estimators': 3} 0.618692233412 [mean: 0.61869, std: 0.00416, params: {'n_estimators': 3}, mean: 0.61643, std: 0.00492, params: {'n_estimators': 5}, mean: 0.61010, std: 0.00669, params: {'n_estimators': 8}]\n",
      "############# based on custom eval metric ################\n",
      "Evaluation on training data: 0.6288\n",
      "Evaluation on test data:     0.6133\n",
      "[[  27  917    0]\n",
      " [  35 1738    2]\n",
      " [   4  385    0]]\n",
      "########################################################\n"
     ]
    }
   ],
   "source": [
    "from sklearn.ensemble import AdaBoostClassifier\n",
    "\n",
    "clfAda = AdaBoostClassifier(rf, n_estimators=10)\n",
    "\n",
    "parameters = {\"n_estimators\": [3, 5, 8]}\n",
    "clfAda, Xtrain, ytrain, Xtest, ytest = do_classify(clfAda, parameters, dfsurvey, cols_we_want, train_labels, \n",
    "                                                   mask=surveymask, score_func=eval_metric, n_jobs=-1)"
   ]
  },
  {
   "cell_type": "markdown",
   "metadata": {},
   "source": [
    "## Gradient Boosting Classifier"
   ]
  },
  {
   "cell_type": "code",
   "execution_count": 991,
   "metadata": {
    "collapsed": false
   },
   "outputs": [
    {
     "name": "stdout",
     "output_type": "stream",
     "text": [
      "using mask\n"
     ]
    },
    {
     "name": "stderr",
     "output_type": "stream",
     "text": [
      "/home/abhishek/anaconda/lib/python2.7/site-packages/IPython/kernel/__main__.py:7: FutureWarning: comparison to `None` will result in an elementwise object comparison in the future.\n"
     ]
    },
    {
     "name": "stdout",
     "output_type": "stream",
     "text": [
      "BEST {'n_estimators': 20, 'max_depth': 1} 0.619506138778 [mean: 0.61951, std: 0.00021, params: {'n_estimators': 20, 'max_depth': 1}, mean: 0.61951, std: 0.00021, params: {'n_estimators': 25, 'max_depth': 1}, mean: 0.61951, std: 0.00021, params: {'n_estimators': 30, 'max_depth': 1}, mean: 0.61942, std: 0.00039, params: {'n_estimators': 20, 'max_depth': 2}, mean: 0.61916, std: 0.00058, params: {'n_estimators': 25, 'max_depth': 2}, mean: 0.61871, std: 0.00135, params: {'n_estimators': 30, 'max_depth': 2}, mean: 0.61806, std: 0.00072, params: {'n_estimators': 20, 'max_depth': 3}, mean: 0.61753, std: 0.00110, params: {'n_estimators': 25, 'max_depth': 3}, mean: 0.61766, std: 0.00242, params: {'n_estimators': 30, 'max_depth': 3}, mean: 0.61647, std: 0.00378, params: {'n_estimators': 20, 'max_depth': 4}, mean: 0.61582, std: 0.00418, params: {'n_estimators': 25, 'max_depth': 4}, mean: 0.61586, std: 0.00528, params: {'n_estimators': 30, 'max_depth': 4}]\n",
      "############# based on custom eval metric ################\n",
      "Evaluation on training data: 0.6195\n",
      "Evaluation on test data:     0.6193\n",
      "[[   0  944    0]\n",
      " [   0 1775    0]\n",
      " [   0  389    0]]\n",
      "########################################################\n"
     ]
    }
   ],
   "source": [
    "from sklearn.ensemble import GradientBoostingClassifier\n",
    "\n",
    "gbc = GradientBoostingClassifier()\n",
    "\n",
    "parameters = {\"n_estimators\": [20, 25, 30], \"max_depth\": [1, 2, 3, 4]}\n",
    "gbc, Xtrain, ytrain, Xtest, ytest = do_classify(gbc, parameters, dfsurvey, cols_we_want, train_labels, \n",
    "                                                   mask=surveymask, score_func=eval_metric, n_jobs=-1)"
   ]
  },
  {
   "cell_type": "markdown",
   "metadata": {},
   "source": [
    "## Training"
   ]
  },
  {
   "cell_type": "code",
   "execution_count": 992,
   "metadata": {
    "collapsed": false
   },
   "outputs": [
    {
     "data": {
      "text/plain": [
       "RandomForestClassifier(bootstrap=True, class_weight=None, criterion='gini',\n",
       "            max_depth=5, max_features='auto', max_leaf_nodes=None,\n",
       "            min_samples_leaf=1, min_samples_split=2,\n",
       "            min_weight_fraction_leaf=0.0, n_estimators=50, n_jobs=1,\n",
       "            oob_score=False, random_state=None, verbose=0,\n",
       "            warm_start=False)"
      ]
     },
     "execution_count": 992,
     "metadata": {},
     "output_type": "execute_result"
    }
   ],
   "source": [
    "# train on the balanced set\n",
    "rf.fit(dfsurvey[cols_we_want], train_labels)\n",
    "# log.fit(dfsurvey[cols_we_want], train_labels)\n",
    "# gbc.fit(dfsurvey[cols_we_want], train_labels)"
   ]
  },
  {
   "cell_type": "code",
   "execution_count": 993,
   "metadata": {
    "collapsed": true
   },
   "outputs": [],
   "source": [
    "rf_preds = rf.predict(dfsurvey_test[cols_we_want])\n",
    "# log_preds = log.predict_proba(dfsurvey[cols_we_want])\n",
    "# gbc_preds = gbc.predict_proba(dfsurvey[cols_we_want])"
   ]
  },
  {
   "cell_type": "code",
   "execution_count": 999,
   "metadata": {
    "collapsed": true
   },
   "outputs": [],
   "source": [
    "rf_preds_labels = inverse_mapping_func(rf_preds)"
   ]
  },
  {
   "cell_type": "code",
   "execution_count": 1003,
   "metadata": {
    "collapsed": true
   },
   "outputs": [],
   "source": [
    "create_submission_file('./rf_with_additional_features.csv', dfsurvey_test.ID.values, rf_preds_labels)"
   ]
  },
  {
   "cell_type": "code",
   "execution_count": null,
   "metadata": {
    "collapsed": true
   },
   "outputs": [],
   "source": []
  }
 ],
 "metadata": {
  "kernelspec": {
   "display_name": "Python 2",
   "language": "python",
   "name": "python2"
  },
  "language_info": {
   "codemirror_mode": {
    "name": "ipython",
    "version": 2
   },
   "file_extension": ".py",
   "mimetype": "text/x-python",
   "name": "python",
   "nbconvert_exporter": "python",
   "pygments_lexer": "ipython2",
   "version": "2.7.10"
  }
 },
 "nbformat": 4,
 "nbformat_minor": 0
}
