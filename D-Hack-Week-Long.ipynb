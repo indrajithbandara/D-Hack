{
 "cells": [
  {
   "cell_type": "code",
   "execution_count": 57,
   "metadata": {
    "collapsed": true
   },
   "outputs": [],
   "source": [
    "%matplotlib inline\n",
    "import numpy as np\n",
    "import scipy as sp\n",
    "import matplotlib as mpl\n",
    "import matplotlib.cm as cm\n",
    "import matplotlib.pyplot as plt\n",
    "import pandas as pd\n",
    "import xgboost as xgb\n",
    "from scipy import sparse\n",
    "\n",
    "pd.set_option('display.width', 500)\n",
    "pd.set_option('display.max_columns', 100)\n",
    "pd.set_option('display.notebook_repr_html', True)\n",
    "\n",
    "import seaborn as sns\n",
    "sns.set_style(\"whitegrid\")\n",
    "sns.set_context(\"poster\")"
   ]
  },
  {
   "cell_type": "code",
   "execution_count": 103,
   "metadata": {
    "collapsed": false
   },
   "outputs": [],
   "source": [
    "# external scripts\n",
    "%run scripts/helper.py"
   ]
  },
  {
   "cell_type": "code",
   "execution_count": 3,
   "metadata": {
    "collapsed": true
   },
   "outputs": [],
   "source": [
    "# load data\n",
    "survey_train_df = pd.read_csv('./data/train_FBFog7d.csv')\n",
    "survey_test_df = pd.read_csv('./data/Test_L4P23N3.csv')"
   ]
  },
  {
   "cell_type": "code",
   "execution_count": 4,
   "metadata": {
    "collapsed": false
   },
   "outputs": [
    {
     "name": "stdout",
     "output_type": "stream",
     "text": [
      "shape of training set (10357, 18) and test set (3387, 17) \n"
     ]
    }
   ],
   "source": [
    "# shape of dataset\n",
    "print 'shape of training set {0} and test set {1} '.format(survey_train_df.shape, survey_test_df.shape)"
   ]
  },
  {
   "cell_type": "code",
   "execution_count": 5,
   "metadata": {
    "collapsed": true
   },
   "outputs": [],
   "source": [
    "# load alcohol dataset\n",
    "alcohol_df = pd.read_csv('./data/NewVariable_Alcohol.csv')"
   ]
  },
  {
   "cell_type": "code",
   "execution_count": 6,
   "metadata": {
    "collapsed": true
   },
   "outputs": [],
   "source": [
    "# merge this dataset with both training and test set\n",
    "survey_train_df_merged = pd.merge(survey_train_df, alcohol_df, on='ID', how='left')\n",
    "survey_test_df_merged = pd.merge(survey_test_df, alcohol_df, on='ID', how='left')"
   ]
  },
  {
   "cell_type": "code",
   "execution_count": 7,
   "metadata": {
    "collapsed": false
   },
   "outputs": [
    {
     "name": "stdout",
     "output_type": "stream",
     "text": [
      "shape of training set (10357, 19) and test set (3387, 18) \n"
     ]
    }
   ],
   "source": [
    "# shape of dataset\n",
    "print 'shape of training set {0} and test set {1} '.format(survey_train_df_merged.shape, survey_test_df_merged.shape)"
   ]
  },
  {
   "cell_type": "code",
   "execution_count": 8,
   "metadata": {
    "collapsed": true
   },
   "outputs": [],
   "source": [
    "# map labels to int\n",
    "emotion_dict = {'Very Happy': 0, 'Pretty Happy': 1, 'Not Happy': 2}\n",
    "\n",
    "def map_emotions_to_int(emotion):\n",
    "    return emotion_dict[emotion]\n",
    "\n",
    "train_labels = survey_train_df_merged.Happy.map(map_emotions_to_int)"
   ]
  },
  {
   "cell_type": "markdown",
   "metadata": {},
   "source": [
    "## Two Stage Modelling\n",
    "\n",
    "In first stage we would predict whether person is happy or not and further then we would try to predict if he is very happy or not. \n",
    "\n",
    "* Labels in first stage ( 1 - happy, 0 - not happy )"
   ]
  },
  {
   "cell_type": "code",
   "execution_count": 9,
   "metadata": {
    "collapsed": false
   },
   "outputs": [],
   "source": [
    "train_labels_first_stage = (train_labels<2)*1"
   ]
  },
  {
   "cell_type": "code",
   "execution_count": 10,
   "metadata": {
    "collapsed": true
   },
   "outputs": [],
   "source": [
    "# list of columns we want\n",
    "cols_we_want = survey_train_df_merged.columns.drop(['ID', 'Happy', 'babies', 'teens', 'preteen', 'TVhours'])"
   ]
  },
  {
   "cell_type": "code",
   "execution_count": 11,
   "metadata": {
    "collapsed": true
   },
   "outputs": [],
   "source": [
    "# data frame with only those columns that we want\n",
    "train_df = survey_train_df_merged[cols_we_want]\n",
    "test_df = survey_test_df_merged[cols_we_want]"
   ]
  },
  {
   "cell_type": "code",
   "execution_count": 12,
   "metadata": {
    "collapsed": false
   },
   "outputs": [
    {
     "name": "stderr",
     "output_type": "stream",
     "text": [
      "/home/abhishek/anaconda/lib/python2.7/site-packages/pandas/core/frame.py:2532: SettingWithCopyWarning: \n",
      "A value is trying to be set on a copy of a slice from a DataFrame\n",
      "\n",
      "See the the caveats in the documentation: http://pandas.pydata.org/pandas-docs/stable/indexing.html#indexing-view-versus-copy\n",
      "  **kwargs)\n"
     ]
    }
   ],
   "source": [
    "# fill in the missing values\n",
    "train_df.fillna('-999', inplace=True)\n",
    "test_df.fillna('-999', inplace=True)"
   ]
  },
  {
   "cell_type": "code",
   "execution_count": 13,
   "metadata": {
    "collapsed": true
   },
   "outputs": [],
   "source": [
    "from sklearn.feature_extraction import DictVectorizer\n",
    "\n",
    "train = train_df.T.to_dict().values()\n",
    "test = test_df.T.to_dict().values()\n",
    "\n",
    "vec = DictVectorizer()\n",
    "train = vec.fit_transform(train)\n",
    "test = vec.transform(test)"
   ]
  },
  {
   "cell_type": "markdown",
   "metadata": {},
   "source": [
    "## Split dataset"
   ]
  },
  {
   "cell_type": "code",
   "execution_count": 84,
   "metadata": {
    "collapsed": true
   },
   "outputs": [],
   "source": [
    "mask = split_dataset(train, train_labels_first_stage)"
   ]
  },
  {
   "cell_type": "code",
   "execution_count": 85,
   "metadata": {
    "collapsed": true
   },
   "outputs": [],
   "source": [
    "Xtrain = train[mask]\n",
    "ytrain = train_labels_first_stage[mask]\n",
    "\n",
    "Xtest = train[~mask]\n",
    "ytest = train_labels_first_stage[~mask]"
   ]
  },
  {
   "cell_type": "markdown",
   "metadata": {
    "collapsed": true
   },
   "source": [
    "## Modelling"
   ]
  },
  {
   "cell_type": "code",
   "execution_count": 86,
   "metadata": {
    "collapsed": false
   },
   "outputs": [
    {
     "name": "stdout",
     "output_type": "stream",
     "text": [
      "Ratio of happy class over all instances: 0.87\n"
     ]
    }
   ],
   "source": [
    "print('Ratio of happy class over all instances: {:.2f}'.format(float(train_labels_first_stage.sum()) / train_labels_first_stage.shape[0]))"
   ]
  },
  {
   "cell_type": "markdown",
   "metadata": {
    "collapsed": true
   },
   "source": [
    "** Pretty unbalanced dataset with 87% of the classes as being marked as happy **"
   ]
  },
  {
   "cell_type": "code",
   "execution_count": 87,
   "metadata": {
    "collapsed": true
   },
   "outputs": [],
   "source": [
    "from sklearn import cross_validation\n",
    "from sklearn.ensemble import RandomForestClassifier\n",
    "from sklearn.calibration import CalibratedClassifierCV\n",
    "from sklearn import metrics"
   ]
  },
  {
   "cell_type": "code",
   "execution_count": 88,
   "metadata": {
    "collapsed": false
   },
   "outputs": [],
   "source": [
    "scorer_func = metrics.make_scorer(score, greater_is_better=True)"
   ]
  },
  {
   "cell_type": "code",
   "execution_count": 89,
   "metadata": {
    "collapsed": false
   },
   "outputs": [],
   "source": [
    "skf = cross_validation.StratifiedKFold(ytrain, n_folds=5, shuffle=True)\n",
    "rf = RandomForestClassifier()\n",
    "\n",
    "cv_scores = cross_validation.cross_val_score(rf, Xtrain, ytrain, scoring='accuracy', n_jobs=-1, cv=skf)"
   ]
  },
  {
   "cell_type": "code",
   "execution_count": 90,
   "metadata": {
    "collapsed": false
   },
   "outputs": [
    {
     "name": "stdout",
     "output_type": "stream",
     "text": [
      "Mean cross validation score across 5-folds 0.934337295203\n"
     ]
    }
   ],
   "source": [
    "print 'Mean cross validation score across 5-folds {0}'.format(np.mean(cv_scores))"
   ]
  },
  {
   "cell_type": "code",
   "execution_count": 91,
   "metadata": {
    "collapsed": false
   },
   "outputs": [
    {
     "name": "stdout",
     "output_type": "stream",
     "text": [
      "Accuracy on unseen examples 0.936293436293 \n"
     ]
    }
   ],
   "source": [
    "# test it out on separate examples\n",
    "clf = xgb.XGBClassifier(learning_rate=0.003, objective='binary:logistic', subsample=0.7, colsample_bytree=0.7, min_child_weight=30)\n",
    "calibrated_clf = CalibratedClassifierCV(clf, method='isotonic', cv=3)\n",
    "calibrated_clf.fit(Xtrain, ytrain)\n",
    "\n",
    "\n",
    "print 'Accuracy on unseen examples {0} '.format(metrics.accuracy_score(ytest, calibrated_clf.predict(Xtest)))"
   ]
  },
  {
   "cell_type": "code",
   "execution_count": 51,
   "metadata": {
    "collapsed": false
   },
   "outputs": [],
   "source": [
    "# spit out probabilities\n",
    "train_probs = calibrated_clf.predict_proba(Xtrain)\n",
    "test_probs = calibrated_clf.predict_proba(Xtest)"
   ]
  },
  {
   "cell_type": "code",
   "execution_count": 60,
   "metadata": {
    "collapsed": false
   },
   "outputs": [],
   "source": [
    "# add these probs as features\n",
    "Xtrain_with_probs = sparse.hstack([Xtrain, train_probs])\n",
    "Xtest_with_probs = sparse.hstack([Xtest, test_probs])"
   ]
  },
  {
   "cell_type": "code",
   "execution_count": 61,
   "metadata": {
    "collapsed": false
   },
   "outputs": [],
   "source": [
    "# target values\n",
    "ytrain = train_labels[mask]\n",
    "ytest = train_labels[~mask]"
   ]
  },
  {
   "cell_type": "markdown",
   "metadata": {
    "collapsed": true
   },
   "source": [
    "## Second Stage\n",
    "Takes in the features along with predicted probabilities from first stage classifier"
   ]
  },
  {
   "cell_type": "markdown",
   "metadata": {},
   "source": [
    "## Cross validation"
   ]
  },
  {
   "cell_type": "code",
   "execution_count": 80,
   "metadata": {
    "collapsed": false
   },
   "outputs": [],
   "source": [
    "skf = cross_validation.StratifiedKFold(ytrain, n_folds=5, shuffle=True)\n",
    "clf_second_stage = RandomForestClassifier(min_samples_leaf=10, n_estimators=50)\n",
    "\n",
    "cv_scores = cross_validation.cross_val_score(clf_second_stage, Xtrain_with_probs, ytrain, scoring=scorer_func, n_jobs=-1, cv=skf)"
   ]
  },
  {
   "cell_type": "code",
   "execution_count": 81,
   "metadata": {
    "collapsed": false
   },
   "outputs": [
    {
     "name": "stdout",
     "output_type": "stream",
     "text": [
      "Mean cross validation score across 5-folds 0.696645859321\n"
     ]
    }
   ],
   "source": [
    "print 'Mean cross validation score across 5-folds {0}'.format(np.mean(cv_scores))"
   ]
  },
  {
   "cell_type": "code",
   "execution_count": 83,
   "metadata": {
    "collapsed": false
   },
   "outputs": [
    {
     "name": "stdout",
     "output_type": "stream",
     "text": [
      "score on the test set 0.706692406692 \n"
     ]
    }
   ],
   "source": [
    "clf_second_stage.fit(Xtrain_with_probs, ytrain)\n",
    "print 'score on the test set {0} '.format(score(ytest, clf_second_stage.predict(Xtest_with_probs)))"
   ]
  },
  {
   "cell_type": "markdown",
   "metadata": {
    "collapsed": true
   },
   "source": [
    "## Run on full training set"
   ]
  },
  {
   "cell_type": "code",
   "execution_count": 92,
   "metadata": {
    "collapsed": false
   },
   "outputs": [
    {
     "data": {
      "text/plain": [
       "CalibratedClassifierCV(base_estimator=XGBClassifier(base_score=0.5, colsample_bytree=0.7, gamma=0,\n",
       "       learning_rate=0.003, max_delta_step=0, max_depth=3,\n",
       "       min_child_weight=30, missing=None, n_estimators=100, nthread=-1,\n",
       "       objective='binary:logistic', seed=0, silent=True, subsample=0.7),\n",
       "            cv=3, method='isotonic')"
      ]
     },
     "execution_count": 92,
     "metadata": {},
     "output_type": "execute_result"
    }
   ],
   "source": [
    "# Run calibrated classifier on full training set\n",
    "clf = xgb.XGBClassifier(learning_rate=0.003, objective='binary:logistic', subsample=0.7, colsample_bytree=0.7, min_child_weight=30)\n",
    "calibrated_clf = CalibratedClassifierCV(clf, method='isotonic', cv=3)\n",
    "calibrated_clf.fit(train, train_labels_first_stage)"
   ]
  },
  {
   "cell_type": "code",
   "execution_count": 93,
   "metadata": {
    "collapsed": true
   },
   "outputs": [],
   "source": [
    "train_probs = calibrated_clf.predict_proba(train)\n",
    "test_probs = calibrated_clf.predict_proba(test)"
   ]
  },
  {
   "cell_type": "code",
   "execution_count": 94,
   "metadata": {
    "collapsed": true
   },
   "outputs": [],
   "source": [
    "train_with_probs = sparse.hstack([train, train_probs])\n",
    "test_with_probs = sparse.hstack([test, test_probs])"
   ]
  },
  {
   "cell_type": "code",
   "execution_count": 95,
   "metadata": {
    "collapsed": false
   },
   "outputs": [
    {
     "data": {
      "text/plain": [
       "RandomForestClassifier(bootstrap=True, class_weight=None, criterion='gini',\n",
       "            max_depth=None, max_features='auto', max_leaf_nodes=None,\n",
       "            min_samples_leaf=10, min_samples_split=2,\n",
       "            min_weight_fraction_leaf=0.0, n_estimators=50, n_jobs=1,\n",
       "            oob_score=False, random_state=None, verbose=0,\n",
       "            warm_start=False)"
      ]
     },
     "execution_count": 95,
     "metadata": {},
     "output_type": "execute_result"
    }
   ],
   "source": [
    "# train second stage classifier\n",
    "clf_second_stage.fit(train_with_probs, train_labels)"
   ]
  },
  {
   "cell_type": "code",
   "execution_count": 96,
   "metadata": {
    "collapsed": true
   },
   "outputs": [],
   "source": [
    "# predictions from second stage classifier\n",
    "second_stage_preds = clf_second_stage.predict(test_with_probs)"
   ]
  },
  {
   "cell_type": "code",
   "execution_count": 101,
   "metadata": {
    "collapsed": true
   },
   "outputs": [],
   "source": [
    "prediction_labels = inverse_mapping_func(second_stage_preds)"
   ]
  },
  {
   "cell_type": "code",
   "execution_count": 106,
   "metadata": {
    "collapsed": false
   },
   "outputs": [],
   "source": [
    "create_submission_file('./submissions_week_long/multi_stage.csv', survey_test_df_merged.ID.values, prediction_labels)"
   ]
  }
 ],
 "metadata": {
  "kernelspec": {
   "display_name": "Python 2",
   "language": "python",
   "name": "python2"
  },
  "language_info": {
   "codemirror_mode": {
    "name": "ipython",
    "version": 2
   },
   "file_extension": ".py",
   "mimetype": "text/x-python",
   "name": "python",
   "nbconvert_exporter": "python",
   "pygments_lexer": "ipython2",
   "version": "2.7.10"
  }
 },
 "nbformat": 4,
 "nbformat_minor": 0
}
